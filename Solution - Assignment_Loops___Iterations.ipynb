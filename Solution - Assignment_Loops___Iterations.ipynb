{
 "cells": [
  {
   "cell_type": "markdown",
   "metadata": {
    "id": "DbG5aM4YkzEn"
   },
   "source": [
    "#### The SETI Institute is a not-for-profit research organization incorporated in 1984 whose mission is to explore, understand, and explain the origin and nature of life in the universe, and to apply the knowledge gained to inspire and guide present and future generations. It aims for discovery and for sharing knowledge as scientific ambassadors to the public, the press, and the government. SETI stands for the \"Search for Extraterrestrial Intelligence\".\n",
    "\n",
    "#### SETI received some signals from a far away galaxy on June 14, 2012. These signals could have been from a possible alien civilization (similar to what you would have seen in the movie Arrival).\n",
    "\n",
    "#### The signals indicated the existence of a secret language for sending messages across. Following are the observations made by the SETI team who discovered these signals :\n",
    "\n",
    "*   Aliens share a **tuple**, each element of tuple will be a **string** of alphabets\n",
    "*   Scientists still don't know what is the content of the strings inside the tuples but depending upon the length of the string, the string translates into an alphabet (0 ≡  ,1 ≡ A, 2 ≡ B, 3 ≡ C, .., 26 ≡ Z)\n",
    "*   **Space** between the words of the message is represented by an **empty string**\n",
    "\n",
    "<br> <u>A sample message received by SETI </u><br>\n",
    "\n",
    "**ADAM EVE** is denoted by the following tuple:\n",
    "\n",
    "<code>\n",
    " t = (\"s\", \"dymw\", \"z\", \"ndkjaakjkjnda\",\"\",\"tybhg\",\"nmbcjbabdbsabbsbhdbshr\",\"htroy\" )</code>\n",
    "\n",
    "\n",
    "Explanation:\n",
    "* A list of length of each element in the tuple is : <code>[1,4,1,13,0,5,22,5]</code>\n",
    "* Upon replacing numbers with corresponding alphabets and spaces, we get :\n",
    "<code>['A','D','A','M','','E','V','E'] </code>\n",
    "\n",
    "\n",
    "\n",
    "\n",
    "\n",
    "\n",
    "\n",
    "\n"
   ]
  },
  {
   "cell_type": "markdown",
   "metadata": {
    "id": "OpbPVo_bwo2B"
   },
   "source": [
    "### <u>Problem 1</u>\n",
    "\n",
    "#### Create a dictionary where the key corresponds to the position of the alphabet(consider space as the first alphabet) and the value corresponding to the key will be the alphabet.\n",
    "\n",
    "#### <code>range()</code> function in Python is pretty useful to get a list of numbers in sequence. You can use <code>help(range)</code> to know more about its details"
   ]
  },
  {
   "cell_type": "code",
   "execution_count": 1,
   "metadata": {
    "colab": {
     "base_uri": "https://localhost:8080/",
     "height": 34
    },
    "id": "l9K6_UWqkyOC",
    "outputId": "00655732-fddc-437f-b0c3-40ed494a217c"
   },
   "outputs": [
    {
     "name": "stdout",
     "output_type": "stream",
     "text": [
      "['a', 'b', 'c', 'd', 'e', 'f', 'g', 'h', 'i', 'j', 'k', 'l', 'm', 'n', 'o', 'p', 'q', 'r', 's', 't', 'u', 'v', 'w', 'x', 'y', 'z']\n"
     ]
    }
   ],
   "source": [
    "# Create your dictionary below with keys as position of the alphabet and the value of the key will be the alphabet itself\n",
    "\n",
    "# Create a list of numbers from 0 to 26 using the range() function\n",
    "list_of_numbers = list(range(27))\n",
    "\n",
    "# Create the list of alphabets. Hint use the split() method\n",
    "alphabets = \"a,b,c,d,e,f,g,h,i,j,k,l,m,n,o,p,q,r,s,t,u,v,w,x,y,z\"\n",
    "alphabet_list =alphabets.split(',')\n",
    "\n",
    "print(alphabet_list)"
   ]
  },
  {
   "cell_type": "code",
   "execution_count": 2,
   "metadata": {
    "id": "9bnRPQ9G971m"
   },
   "outputs": [
    {
     "name": "stdout",
     "output_type": "stream",
     "text": [
      "{0: 'a', 1: 'b', 2: 'c', 3: 'd', 4: 'e', 5: 'f', 6: 'g', 7: 'h', 8: 'i', 9: 'j', 10: 'k', 11: 'l', 12: 'm', 13: 'n', 14: 'o', 15: 'p', 16: 'q', 17: 'r', 18: 's', 19: 't', 20: 'u', 21: 'v', 22: 'w', 23: 'x', 24: 'y', 25: 'z'}\n"
     ]
    }
   ],
   "source": [
    "# Create a dictionary by zipping together the above two lists\n",
    "alphabet_dict = dict(zip(list_of_numbers,alphabet_list))\n",
    "\n",
    "\n",
    "# Print your dictionary to double check;\n",
    "print(alphabet_dict)"
   ]
  },
  {
   "cell_type": "markdown",
   "metadata": {
    "id": "Lv-n7NZqKxET"
   },
   "source": [
    "### <u>Problem 2</u>\n",
    "#### Scientists receive the following message code from the alien civilization\n",
    "\n",
    "```\n",
    "encrypyted_message = (\"ajsuydtbe\", \"\", \"wunjbfusnjrgut\", \"uhbhr\", \"oirun\", \"lpef\", \"\", \"vhejsibr\", \"ydtse\", \"qlvuusrntuos\", \"ijwlbutybhlsoaxh\")\n",
    "```\n",
    "#### You have been asked to decode the above message"
   ]
  },
  {
   "cell_type": "code",
   "execution_count": 3,
   "metadata": {
    "id": "7CC7IqIdKP-q"
   },
   "outputs": [],
   "source": [
    "# Store the message in a variable\n",
    "encrypted_message = (\"ajsuydtbe\", \"\", \"wunjbfusnjrgut\", \"uhbhr\", \"oirun\", \"lpef\", \"\", \"vhejsibr\", \"ydtse\", \"qlvuusrntuos\", \"ijwlbutybhlsoaxh\")"
   ]
  },
  {
   "cell_type": "code",
   "execution_count": 4,
   "metadata": {
    "id": "fxLQFN5QMH0I"
   },
   "outputs": [
    {
     "name": "stdout",
     "output_type": "stream",
     "text": [
      "Decoded Message: jaoffeaifmq\n"
     ]
    }
   ],
   "source": [
    "# Follow the steps from your solution to problem 1\n",
    "\n",
    "# Create an empty list\n",
    "string_length_list  = []\n",
    "\n",
    "# Append the length of strings of your tuple using a for loop\n",
    "\n",
    "decoded_message = []\n",
    "for string in encrypted_message:\n",
    "    string_length = len(string)\n",
    "    decoded_alphabet = alphabet_dict.get(string_length, '')\n",
    "    decoded_message.append(decoded_alphabet)\n",
    "\n",
    "# Print the decoded message\n",
    "print(\"Decoded Message:\", ''.join(decoded_message))\n",
    "\n",
    "# Print the list of string lengths\n"
   ]
  },
  {
   "cell_type": "code",
   "execution_count": 5,
   "metadata": {
    "id": "qpvaTUsUNiu9"
   },
   "outputs": [],
   "source": [
    "# Create a string to store the decrypyted message\n",
    "decrypted_message = \"\"\n",
    "\n",
    "# Concatenate the characters using a for loop to get your final decoded message\n",
    "\n",
    "\n",
    "\n",
    "# Print the message you have decrypted\n"
   ]
  },
  {
   "cell_type": "markdown",
   "metadata": {
    "id": "EaYw9Z03TlYa"
   },
   "source": [
    "### <u> Problem 3</u>\n",
    "\n",
    "#### Aliens receive the reply from the scientists. They decode the message and send an encrypted message again. Due to some aberrations because of an existing very massive star, one of the words of their message gets transformed into something gibberish/unreadable. They sent the following message:\n",
    "\n",
    "* <code> I saw a \\<**some gibberish**> please help me soon\n",
    "\n",
    "#### Scientists were baffled by the presence of such an indecipherable word in the message sent by Aliens. Suddenly they receive another signal from them which contains the gibberish word but this time the letters have been jumbled up. Scientists need to sort the letters of this word in alphabetical order within it to get the actual transmitted word\n",
    "\n",
    "#### The encoded list of the unknown word is:\n",
    "\n",
    "```\n",
    "jumbled_word = [\"hugdtck\", \"tsogbklesrawqcbjplu\", \"qkisrubskoaitbt\", \"nslaoetr\", \"oksinjioaendnjsdqwbh\"]\n",
    "```\n"
   ]
  },
  {
   "cell_type": "code",
   "execution_count": 6,
   "metadata": {
    "id": "--89g4fAVP6i"
   },
   "outputs": [],
   "source": [
    "# Store the list of jumbled word in a variable\n",
    "jumbled_word = [\"hugdtck\", \"tsogbklesrawqcbjplu\", \"qkisrubskoaitbt\", \"nslaoetr\", \"oksinjioaendnjsdqwbh\"]"
   ]
  },
  {
   "cell_type": "code",
   "execution_count": 7,
   "metadata": {
    "id": "REhBM4O0WB6i"
   },
   "outputs": [
    {
     "name": "stdout",
     "output_type": "stream",
     "text": [
      "[7, 19, 15, 8, 20]\n",
      "['h', 'u', 'g', 'd', 't', 'c', 'k', 't', 's', 'o', 'g', 'b', 'k', 'l', 'e', 's', 'r', 'a', 'w', 'q', 'c', 'b', 'j', 'p', 'l', 'u', 'q', 'k', 'i', 's', 'r', 'u', 'b', 's', 'k', 'o', 'a', 'i', 't', 'b', 't', 'n', 's', 'l', 'a', 'o', 'e', 't', 'r', 'o', 'k', 's', 'i', 'n', 'j', 'i', 'o', 'a', 'e', 'n', 'd', 'n', 'j', 's', 'd', 'q', 'w', 'b', 'h']\n"
     ]
    }
   ],
   "source": [
    "# Given list of jumbled words\n",
    "jumbled_word = [\"hugdtck\", \"tsogbklesrawqcbjplu\", \"qkisrubskoaitbt\", \"nslaoetr\", \"oksinjioaendnjsdqwbh\"]\n",
    "\n",
    "# Create an empty list to store the lengths of strings\n",
    "string_length_list = []\n",
    "\n",
    "# Create another list to store the corresponding characters\n",
    "chars_in_jumbled_state = []\n",
    "\n",
    "# Iterate through the list of jumbled words\n",
    "for word in jumbled_word:\n",
    "    # Append the length of each word to the string_length_list\n",
    "    string_length_list.append(len(word))\n",
    "    \n",
    "    # Append the characters of each word to chars_in_jumbled_state\n",
    "    chars_in_jumbled_state.extend(list(word))\n",
    "\n",
    "# Print the list of string lengths\n",
    "print(string_length_list)\n",
    "\n",
    "# Print the list of jumbled characters\n",
    "print(chars_in_jumbled_state)\n"
   ]
  },
  {
   "cell_type": "code",
   "execution_count": 8,
   "metadata": {
    "id": "APZPcWabCmL-"
   },
   "outputs": [
    {
     "name": "stdout",
     "output_type": "stream",
     "text": [
      "['a', 'a', 'a', 'a', 'b', 'b', 'b', 'b', 'b', 'c', 'c', 'd', 'd', 'd', 'e', 'e', 'e', 'g', 'g', 'h', 'h', 'i', 'i', 'i', 'i', 'j', 'j', 'j', 'k', 'k', 'k', 'k', 'k', 'l', 'l', 'l', 'n', 'n', 'n', 'n', 'o', 'o', 'o', 'o', 'o', 'p', 'q', 'q', 'q', 'r', 'r', 'r', 's', 's', 's', 's', 's', 's', 's', 't', 't', 't', 't', 't', 'u', 'u', 'u', 'w', 'w']\n",
      "I saw a aaaabbbbbccdddeeegghhiiiijjjkkkkklllnnnnooooopqqqrrrssssssstttttuuuww please help me soon\n"
     ]
    }
   ],
   "source": [
    "# Get the sorted list of characters\n",
    "sorted_char_list = sorted(chars_in_jumbled_state)\n",
    "\n",
    "# Print the sorted list\n",
    "print(sorted_char_list)\n",
    "\n",
    "# Get all the characters in one word using the join() method\n",
    "correct_word = ''.join(sorted_char_list)\n",
    "\n",
    "# Print the complete message\n",
    "print(f\"I saw a {correct_word} please help me soon\")"
   ]
  },
  {
   "cell_type": "markdown",
   "metadata": {
    "id": "BhlJiGNfC8r-"
   },
   "source": [
    "## <u> Problem 4</u>\n",
    "\n",
    "### A perfect number is a positive integer that is equal to the sum of its proper divisors. The smallest perfect number is 6, which is the sum of 1, 2, and 3. Based on a given user input, you need to print whether the input is a perfect number or not. Check on sample inputs such as 28, 128, 200, 496"
   ]
  },
  {
   "cell_type": "code",
   "execution_count": null,
   "metadata": {
    "colab": {
     "base_uri": "https://localhost:8080/",
     "height": 34
    },
    "id": "lk1KMEkcE2Pt",
    "outputId": "4d87f68e-65eb-4b46-b5fd-128c5bee364e"
   },
   "outputs": [],
   "source": []
  },
  {
   "cell_type": "code",
   "execution_count": 9,
   "metadata": {
    "id": "CP0cCudsI6U-"
   },
   "outputs": [
    {
     "name": "stdout",
     "output_type": "stream",
     "text": [
      "Enter a positive integer: 23\n",
      "23 is not a perfect number.\n"
     ]
    }
   ],
   "source": [
    "\n",
    "\n",
    "\n",
    "\n",
    "\n",
    "\n",
    "# Get user input\n",
    "num = int(input(\"Enter a positive integer: \"))\n",
    "\n",
    "# Initialize variables for the sum of divisors and the divisor\n",
    "divisor = 1\n",
    "divisor_sum = 0\n",
    "\n",
    "# Use a while loop to find the divisors and calculate their sum\n",
    "while divisor < num:\n",
    "    if num % divisor == 0:\n",
    "        divisor_sum += divisor\n",
    "    divisor += 1\n",
    "\n",
    "# Check if the number is perfect\n",
    "if divisor_sum == num:\n",
    "    print(f\"{num} is a perfect number.\")\n",
    "else:\n",
    "    print(f\"{num} is not a perfect number.\")\n",
    "\n",
    "\n",
    "\n"
   ]
  },
  {
   "cell_type": "markdown",
   "metadata": {
    "id": "hsmBSIrtFvlr"
   },
   "source": [
    "## <u> Problem 5</u>\n",
    "\n",
    "### Consider a famous movie line by Liam Neeson. You need to print only those words from this famous line whose length is greater than 3. Also the output words should be unique.You need to take care of the special characters such as ,. Characters such as apostrophe will be considered to be part of the word."
   ]
  },
  {
   "cell_type": "code",
   "execution_count": 10,
   "metadata": {},
   "outputs": [
    {
     "name": "stdout",
     "output_type": "stream",
     "text": [
      "If you let my daughter go now that'll be the end of it I will not look for you I will not pursue you But if you don't I will look for you I will find you and I will kill you\n",
      "The unique word list is {'look', 'daughter', 'will', 'pursue', \"don't\", \"that'll\", 'kill', 'find'}\n"
     ]
    }
   ],
   "source": [
    "# Liam Neeson's quote\n",
    "movie_quote = \"If you let my daughter go now, that'll be the end of it. I will not look for you, I will not pursue you. But if you don't, I will look for you, I will find you, and I will kill you.\"\n",
    "\n",
    "# Remove characters such as , and .\n",
    "movie_quote = movie_quote.replace(',', '').replace('.', '')\n",
    "\n",
    "# Print the modified movie quote\n",
    "print(movie_quote)\n",
    "\n",
    "# Convert the sentence to a list of words\n",
    "list_of_words = movie_quote.split(' ')\n",
    "\n",
    "# Initialize a list to store words whose length is greater than 3\n",
    "words_we_want = []\n",
    "\n",
    "# Using a for loop, filter and print the words whose length is greater than 3\n",
    "for word in list_of_words:\n",
    "    if len(word) > 3:\n",
    "        words_we_want.append(word)\n",
    "\n",
    "# Take only unique words\n",
    "unique_words = set(words_we_want)\n",
    "\n",
    "# Print the list of unique words\n",
    "print(f\"The unique word list is {unique_words}\")\n"
   ]
  },
  {
   "cell_type": "code",
   "execution_count": null,
   "metadata": {
    "id": "HdYktKBXHqj9"
   },
   "outputs": [],
   "source": []
  }
 ],
 "metadata": {
  "colab": {
   "provenance": []
  },
  "kernelspec": {
   "display_name": "Python 3 (ipykernel)",
   "language": "python",
   "name": "python3"
  },
  "language_info": {
   "codemirror_mode": {
    "name": "ipython",
    "version": 3
   },
   "file_extension": ".py",
   "mimetype": "text/x-python",
   "name": "python",
   "nbconvert_exporter": "python",
   "pygments_lexer": "ipython3",
   "version": "3.9.13"
  }
 },
 "nbformat": 4,
 "nbformat_minor": 1
}
