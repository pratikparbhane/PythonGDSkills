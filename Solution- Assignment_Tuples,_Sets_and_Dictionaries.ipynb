{
 "cells": [
  {
   "cell_type": "markdown",
   "metadata": {
    "id": "8WbUJEVzs8Bx"
   },
   "source": [
    "## <u>While doing this assignment only use those concepts which have been taught till now</u>"
   ]
  },
  {
   "cell_type": "markdown",
   "metadata": {
    "id": "KjPWYK0Rs8By"
   },
   "source": [
    "## <u>Problem 1</u>\n",
    "\n",
    "### Another measure of average\n",
    "\n",
    "* Mode is defined as the value that appears most often in a set of data values. Mode corresponds to the most frequent value.\n",
    "* You are given a list of numbers and you need to calculate the mode of this list"
   ]
  },
  {
   "cell_type": "code",
   "execution_count": 7,
   "metadata": {
    "id": "34TbaGurs8Bz"
   },
   "outputs": [],
   "source": [
    "# A list containing average daily temperature over 10 days\n",
    "temperatures = [34, 40, 29, 33, 42, 40, 39, 34, 34,33 ]"
   ]
  },
  {
   "cell_type": "code",
   "execution_count": 8,
   "metadata": {
    "id": "N1Yhpkiws8B3"
   },
   "outputs": [],
   "source": [
    "uni_temperatures = set(temperatures)"
   ]
  },
  {
   "cell_type": "code",
   "execution_count": null,
   "metadata": {},
   "outputs": [],
   "source": []
  },
  {
   "cell_type": "code",
   "execution_count": 9,
   "metadata": {
    "id": "KpMdlB5Fs8B8"
   },
   "outputs": [
    {
     "name": "stdout",
     "output_type": "stream",
     "text": [
      "[34, 40, 29, 33, 42, 40, 39, 34, 34, 33]\n"
     ]
    }
   ],
   "source": [
    "# Print the unique temperature list\n",
    "uni_temperatures=list(uni_temperatures)\n",
    "\n",
    "print(temperatures)"
   ]
  },
  {
   "cell_type": "code",
   "execution_count": 11,
   "metadata": {
    "id": "J7CyJi_Ls8B_"
   },
   "outputs": [],
   "source": [
    "# Step 2 : Create an empty dictionary which will contain the unique temperatures as keys and their counts in the original temperatures list as values\n",
    "temp_dict = {}\n",
    "\n",
    "# Set the values for each key separately\n",
    "# First key\n",
    "\n",
    "temp_dict[uni_temperatures[0]]=temperatures.count(uni_temperatures[0])\n",
    "\n",
    "# Second key\n",
    "\n",
    "temp_dict[uni_temperatures[1]]=temperatures.count(uni_temperatures[1])\n",
    "\n",
    "\n",
    "# Third key\n",
    "\n",
    "temp_dict[uni_temperatures[2]]=temperatures.count(uni_temperatures[2])\n",
    "\n",
    "# Fourth key\n",
    "\n",
    "temp_dict[uni_temperatures[3]]=temperatures.count(uni_temperatures[3])\n",
    "\n",
    "# Fifth key\n",
    "\n",
    "\n",
    "temp_dict[uni_temperatures[4]]=temperatures.count(uni_temperatures[4])\n",
    "# Sixth key\n",
    "temp_dict[uni_temperatures[5]]=temperatures.count(uni_temperatures[5])"
   ]
  },
  {
   "cell_type": "code",
   "execution_count": 17,
   "metadata": {
    "id": "4-ZxbmMxtWfQ"
   },
   "outputs": [
    {
     "name": "stdout",
     "output_type": "stream",
     "text": [
      "[2, 3, 1, 2, 1, 1]\n"
     ]
    },
    {
     "data": {
      "text/plain": [
       "1"
      ]
     },
     "execution_count": 17,
     "metadata": {},
     "output_type": "execute_result"
    }
   ],
   "source": [
    "# Step 3: Store the dictionary values in a list\n",
    "temp_dict_frequencies = list(temp_dict.values())\n",
    "\n",
    "# Print the list of dictionary values\n",
    "\n",
    "print(temp_dict_frequencies)\n",
    "\n",
    "# Find the index of the most frequent temperature value\n",
    "\n",
    "most_frequent_temp_index =  list(temp_dict.keys()).index(list(temp_dict.keys())[temp_dict_frequencies.index(max(temp_dict_frequencies))])\n",
    "\n",
    "# Print the index\n",
    "most_frequent_temp_index "
   ]
  },
  {
   "cell_type": "code",
   "execution_count": 19,
   "metadata": {
    "id": "riu9mZhcwBY6"
   },
   "outputs": [
    {
     "name": "stdout",
     "output_type": "stream",
     "text": [
      "[33, 34, 39, 40, 42, 29]\n"
     ]
    },
    {
     "data": {
      "text/plain": [
       "34"
      ]
     },
     "execution_count": 19,
     "metadata": {},
     "output_type": "execute_result"
    }
   ],
   "source": [
    "# Step 4 : Create the list of dictionary keys\n",
    "temp_dict_keys = list(temp_dict.keys())\n",
    "\n",
    "# Print the list of dictionary keys\n",
    "\n",
    "print(temp_dict_keys)\n",
    "\n",
    "# Calculate the mode temperature\n",
    "mode_temp = temp_dict_keys[most_frequent_temp_index]\n",
    "\n",
    "mode_temp"
   ]
  },
  {
   "cell_type": "markdown",
   "metadata": {
    "id": "5qd8g8UUs8CM"
   },
   "source": [
    "## <u>Problem 2 </u>\n",
    "\n",
    "### Challenging the immutability of tuples\n",
    "\n",
    "You are given a list of tuples. You need to replace the last element of the last tuple"
   ]
  },
  {
   "cell_type": "code",
   "execution_count": 24,
   "metadata": {
    "id": "FBJy9Sq_s8CN"
   },
   "outputs": [],
   "source": [
    "# Input list of tuples\n",
    "\n",
    "list_of_tuples = [(10,20,30),(30,40,50),(50,60,70)]\n",
    "\n",
    "\n",
    "# Expected output : Replace the last element 70 with 100\n",
    "# output_list = [(10,20,30),(30,40,50),(50,60,100)]"
   ]
  },
  {
   "cell_type": "code",
   "execution_count": 28,
   "metadata": {
    "id": "UNtYax1as8CR"
   },
   "outputs": [
    {
     "name": "stdout",
     "output_type": "stream",
     "text": [
      "[(10, 20, 30), (30, 40, 50), (50, 60, 100)]\n"
     ]
    }
   ],
   "source": [
    "# Your code here\n",
    "\n",
    "\n",
    "out_list=list_of_tuples[2]\n",
    "\n",
    "out_list=list(out_list)\n",
    "\n",
    "out_list[2]=100\n",
    "\n",
    "out_list=tuple(out_list)\n",
    "\n",
    "list_of_tuples[2]=out_list\n",
    "\n",
    "\n",
    "# Print the output list\n",
    "\n",
    "print(list_of_tuples)"
   ]
  },
  {
   "cell_type": "markdown",
   "metadata": {
    "id": "ejRCi-vTs8CU"
   },
   "source": [
    "## <u> Problem 3 </u>\n",
    "\n",
    "Natural Language Processing or NLP is one of the most promising fields in Machine Learning. Most of the times in NLP we deal with the textual data (a bunch of strings). Sometimes when we are processing the text, it is a common practice to get rid of some set of stop words from our original text. By default stop words are very common words used in English language such as and, or, punctuations etc.\n",
    "\n",
    "In this exercise, you are provided with a default set of stop words and you need to add some extra set of custom words."
   ]
  },
  {
   "cell_type": "code",
   "execution_count": null,
   "metadata": {
    "id": "C5olNuDGs8CU"
   },
   "outputs": [],
   "source": [
    "# A sample sentence\n",
    "\n",
    "sentence = 'Hello, good morning folks! Today we will announce the half yearly performance results of the company. Due to the ongoing COVID-19 pandemic, our profits have declined by 60% as compared to the last half yearly results'\n",
    "\n",
    "# Print your sentence\n"
   ]
  },
  {
   "cell_type": "code",
   "execution_count": 29,
   "metadata": {
    "id": "B4afm8gCs8CY"
   },
   "outputs": [],
   "source": [
    "# Default set of stop words\n",
    "stop_words = {\"i\", \"me\", \"my\", \"myself\", \"we\", \"our\", \"ours\", \"ourselves\", \"you\", \"your\", \"yours\", \"yourself\",\n",
    "              \"yourselves\", \"he\", \"him\", \"his\", \"himself\", \"she\", \"her\", \"hers\", \"herself\", \"it\", \"its\", \"itself\",\n",
    "              \"they\", \"them\", \"their\", \"theirs\", \"themselves\", \"what\", \"which\", \"who\", \"whom\", \"this\", \"that\",\n",
    "              \"these\", \"those\", \"am\", \"is\", \"are\", \"was\", \"were\", \"be\", \"been\", \"being\", \"have\", \"has\", \"had\",\n",
    "              \"having\", \"do\", \"does\", \"did\", \"doing\", \"a\", \"an\", \"the\", \"and\", \"but\", \"if\", \"or\", \"because\",\n",
    "              \"as\", \"until\", \"while\", \"of\", \"at\", \"by\", \"for\", \"with\", \"about\", \"against\", \"between\", \"into\",\n",
    "              \"through\", \"during\", \"before\", \"after\", \"above\", \"below\", \"to\", \"from\", \"up\", \"down\", \"in\", \"out\",\n",
    "              \"on\", \"off\", \"over\", \"under\", \"again\", \"further\", \"then\", \"once\", \"here\", \"there\", \"when\", \"where\",\n",
    "              \"why\", \"how\", \"all\", \"any\", \"both\", \"each\", \"few\", \"more\", \"most\", \"other\", \"some\", \"such\", \"no\",\n",
    "              \"nor\", \"not\", \"only\", \"own\", \"same\", \"so\", \"than\", \"too\", \"very\", \"s\", \"t\", \"can\", \"will\", \"just\",\n",
    "              \"don\", \"should\", \"now\"}\n"
   ]
  },
  {
   "cell_type": "code",
   "execution_count": 34,
   "metadata": {
    "id": "evgHHnRks8Cc"
   },
   "outputs": [
    {
     "name": "stdout",
     "output_type": "stream",
     "text": [
      "['am', 'yourself', 'any', 'this', 'been', 'a', 'which', 'did', 's', 'those', 'their', 'what', 'to', 'were', 'who', 'have', 'further', 'himself', 'up', 'is', 'my', 'yourselves', 'yours', 'while', 'theirs', 'into', 'in', 'all', 'then', 'its', 'but', 'such', 'don', 'because', 'too', 'will', 't', 'are', 'it', 'themselves', 'be', 'if', 'his', 'very', 'own', 'she', 'not', 'was', 'against', 'how', 'do', 'about', 'at', 'an', 'when', 'here', 'over', 'you', 'off', 'below', 'we', 'both', 'her', 'being', 'myself', 'of', 'other', 'having', 'your', 'these', 'ourselves', 'why', 'had', 'now', 'i', 'as', 'there', 'should', 'doing', 'and', 'under', 'so', 'some', 'on', 'from', 'few', 'me', 'our', 'once', 'itself', 'down', 'more', 'has', 'for', 'each', 'them', 'nor', 'no', 'with', 'between', 'the', 'ours', 'or', 'same', 'he', 'after', 'out', 'just', 'can', 'again', 'herself', 'through', 'where', 'by', 'that', 'until', 'they', 'hers', 'only', 'whom', 'than', 'during', 'before', 'him', 'above', 'does', 'most', 'hello', 'good', 'morning', 'half', 'yearly', 'hello', 'good', 'morning', 'half', 'yearly']\n"
     ]
    }
   ],
   "source": [
    "# Update the set of stop words by adding the custom stop words\n",
    "custom_stop_words = [\"hello\",\"good\",\"morning\",\"half\",\"yearly\"]\n",
    "\n",
    "# Your code here\n",
    "\n",
    "stop_words =list(stop_words)\n",
    "\n",
    "\n",
    "stop_words.extend(custom_stop_words)\n",
    "\n",
    "# Print the updated stop words\n",
    "\n",
    "print(stop_words)\n"
   ]
  },
  {
   "cell_type": "code",
   "execution_count": null,
   "metadata": {
    "id": "1QbZrotrtIE3"
   },
   "outputs": [],
   "source": [
    "# Do the same task another way. Keep in mind to use the original set of stop_words for this piece of code\n",
    "\n",
    "\n",
    "\n",
    "# Print the updated stop words\n"
   ]
  },
  {
   "cell_type": "markdown",
   "metadata": {
    "id": "P1rOYC8Is8Cf"
   },
   "source": [
    "## <u>Problem 4</u>\n",
    "\n",
    " Write a Python script to check whether a given key already exists in a dictionary. If it does, drop that key from the dictionary. If it does not, add that key and corresponding value to the dictionary"
   ]
  },
  {
   "cell_type": "code",
   "execution_count": 35,
   "metadata": {
    "id": "ySeGyCtCs8Cg"
   },
   "outputs": [],
   "source": [
    "# Your dictionary\n",
    "employee_dict = {'Name':'Sanket','Skills':['Python','Machine Learning','Deep Learning'],'Band':6.0,\n",
    "                 'Promotion Year':[2016,2018,2020]}"
   ]
  },
  {
   "cell_type": "code",
   "execution_count": 36,
   "metadata": {
    "id": "MI7mOHaqs8Cj"
   },
   "outputs": [
    {
     "data": {
      "text/plain": [
       "False"
      ]
     },
     "execution_count": 36,
     "metadata": {},
     "output_type": "execute_result"
    }
   ],
   "source": [
    "# Check if the key 'Employee_ID' is present in the dictionary. Hint : use a boolean variable to store this value\n",
    "\n",
    "employee_dict.get('Employee_ID',False)\n",
    "\n",
    "# If not present add this key to this dictionary and the corresponding value to be 4503233\n",
    "\n",
    "employee_dict['Employee_ID']=4503233"
   ]
  },
  {
   "cell_type": "code",
   "execution_count": 38,
   "metadata": {
    "id": "ARPbZfY8s8Co"
   },
   "outputs": [
    {
     "data": {
      "text/plain": [
       "6.0"
      ]
     },
     "execution_count": 38,
     "metadata": {},
     "output_type": "execute_result"
    }
   ],
   "source": [
    "# Check if the key 'Band' is present in the dictionary.\n",
    "\n",
    "employee_dict.get('Band',False)\n",
    "\n",
    "# If present, drop this key from the dictionary\n",
    "\n",
    "employee_dict.pop('Band')\n",
    "\n"
   ]
  },
  {
   "cell_type": "code",
   "execution_count": 39,
   "metadata": {
    "id": "lUDbbyXmulzh"
   },
   "outputs": [
    {
     "data": {
      "text/plain": [
       "{'Name': 'Sanket',\n",
       " 'Skills': ['Python', 'Machine Learning', 'Deep Learning'],\n",
       " 'Promotion Year': [2016, 2018, 2020]}"
      ]
     },
     "execution_count": 39,
     "metadata": {},
     "output_type": "execute_result"
    }
   ],
   "source": [
    "# Print the updated dictionary\n",
    "\n",
    "employee_dict"
   ]
  },
  {
   "cell_type": "code",
   "execution_count": null,
   "metadata": {},
   "outputs": [],
   "source": []
  }
 ],
 "metadata": {
  "colab": {
   "provenance": []
  },
  "kernelspec": {
   "display_name": "Python 3 (ipykernel)",
   "language": "python",
   "name": "python3"
  },
  "language_info": {
   "codemirror_mode": {
    "name": "ipython",
    "version": 3
   },
   "file_extension": ".py",
   "mimetype": "text/x-python",
   "name": "python",
   "nbconvert_exporter": "python",
   "pygments_lexer": "ipython3",
   "version": "3.9.13"
  }
 },
 "nbformat": 4,
 "nbformat_minor": 1
}
