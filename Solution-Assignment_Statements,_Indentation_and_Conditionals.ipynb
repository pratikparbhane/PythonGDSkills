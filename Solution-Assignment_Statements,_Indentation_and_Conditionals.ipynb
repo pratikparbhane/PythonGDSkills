{
 "cells": [
  {
   "cell_type": "markdown",
   "metadata": {
    "id": "8WbUJEVzs8Bx"
   },
   "source": [
    "## <u>While doing this assignment only use those concepts which have been taught till now</u>"
   ]
  },
  {
   "cell_type": "markdown",
   "metadata": {
    "id": "KjPWYK0Rs8By"
   },
   "source": [
    "## <u>Problem 1</u>\n",
    "\n",
    "### As an analyst, you had to present the quarterly performance results of your client. The data which you were provided was on daily basis. To complete this task, you needed to extract the quarter from a given date. For example:\n",
    "\n",
    "* if the date lies between 1st Jan, 2020 - 31st March, 2020, you need to extract the corresponding quarter as '2020-Q1'\n",
    "\n",
    "* if the date lies between 1st April, 2020 - 30th June, 2020, the extracted quarter will be '2020-Q2'\n",
    "\n",
    "* if the date lies between 1st July, 2020 - 30th September, 2020, the extracted quarter will be '2020-Q3'\n",
    "\n",
    "* if the date lies between 1st October, 2020 - 31st Decemeber, 2020 then the extracted quarter will be '2020-Q4'\n"
   ]
  },
  {
   "cell_type": "code",
   "execution_count": 1,
   "metadata": {
    "id": "RxVZTrenzfHC"
   },
   "outputs": [],
   "source": [
    "# Take a proper date input from the user in the format YYYY-MM-DD. Consider this date as a string\n",
    "# Write your code using if else statements to extract the quarter\n",
    "\n",
    "# Store the quarter value in a string variable named quarter\n",
    "# Print the extracted quarter\n"
   ]
  },
  {
   "cell_type": "code",
   "execution_count": 2,
   "metadata": {
    "id": "N1Yhpkiws8B3"
   },
   "outputs": [
    {
     "name": "stdout",
     "output_type": "stream",
     "text": [
      "Enter a date (YYYY-MM-DD): 1998-05-06\n",
      "The extracted quarter is: 1998-Q2\n"
     ]
    }
   ],
   "source": [
    "# Take a date input from the user\n",
    "date_str = input(\"Enter a date (YYYY-MM-DD): \")\n",
    "\n",
    "# Extract year and month from the date string\n",
    "year = int(date_str[:4])\n",
    "month = int(date_str[5:7])\n",
    "\n",
    "# Determine the quarter based on the month\n",
    "if 1 <= month <= 3:\n",
    "    quarter = f\"{year}-Q1\"\n",
    "elif 4 <= month <= 6:\n",
    "    quarter = f\"{year}-Q2\"\n",
    "elif 7 <= month <= 9:\n",
    "    quarter = f\"{year}-Q3\"\n",
    "elif 10 <= month <= 12:\n",
    "    quarter = f\"{year}-Q4\"\n",
    "else:\n",
    "    quarter = \"Invalid Month\"\n",
    "\n",
    "# Print the extracted quarter\n",
    "print(\"The extracted quarter is:\", quarter)\n"
   ]
  },
  {
   "cell_type": "code",
   "execution_count": null,
   "metadata": {
    "id": "KpMdlB5Fs8B8"
   },
   "outputs": [],
   "source": [
    "\n",
    "print(quarter)"
   ]
  },
  {
   "cell_type": "markdown",
   "metadata": {
    "id": "5qd8g8UUs8CM"
   },
   "source": [
    "## <u>Problem 2 </u>\n",
    "\n",
    "* You went out in your local neighbourhood to collect the data of people residing in the locale. You surveyed 5 people and collected some data and stored that in a dictionary. You recorded their names, their age, their sex, their heights(in cms) and their weights(in kgs)"
   ]
  },
  {
   "cell_type": "code",
   "execution_count": 4,
   "metadata": {
    "id": "FBJy9Sq_s8CN"
   },
   "outputs": [],
   "source": [
    "# Surveyed data\n",
    "\n",
    "locality_data = {'Name' : ['Abhinav','Sohail','Dheeraj','Rashmi','Vaishali'],\n",
    "                  'Age' : [42,29,35,28,32],\n",
    "                  'Sex' : ['Male', 'Male','Male','Female','Female'] ,\n",
    "                  'Height' : [172,175,170,168,170],\n",
    "                  'Weight' : [70,82,60,55,64]\n",
    "                 }"
   ]
  },
  {
   "cell_type": "markdown",
   "metadata": {
    "id": "2_rBSgqz5Ums"
   },
   "source": [
    "* Find the mean and median heights and weights of the people in your locality"
   ]
  },
  {
   "cell_type": "code",
   "execution_count": 6,
   "metadata": {
    "id": "zywXa51d6Eev"
   },
   "outputs": [
    {
     "name": "stdout",
     "output_type": "stream",
     "text": [
      "Mean Height: 171.0 cm\n",
      "Median Height: 170 cm\n",
      "Mean Weight: 66.2 kg\n",
      "Median Weight: 64 kg\n"
     ]
    }
   ],
   "source": [
    "# Calculate the mean height and print it\n",
    "mean_height = sum(locality_data['Height']) / len(locality_data['Height'])\n",
    "print(\"Mean Height:\", mean_height, \"cm\")\n",
    "\n",
    "# Calculate the median height and print it\n",
    "sorted_heights = sorted(locality_data['Height'])\n",
    "n = len(sorted_heights)\n",
    "if n % 2 == 0:\n",
    "    median_height = (sorted_heights[n // 2 - 1] + sorted_heights[n // 2]) / 2\n",
    "else:\n",
    "    median_height = sorted_heights[n // 2]\n",
    "print(\"Median Height:\", median_height, \"cm\")\n",
    "\n",
    "# Calculate the mean weight and print it\n",
    "mean_weight = sum(locality_data['Weight']) / len(locality_data['Weight'])\n",
    "print(\"Mean Weight:\", mean_weight, \"kg\")\n",
    "\n",
    "# Calculate the median weight and print it\n",
    "sorted_weights = sorted(locality_data['Weight'])\n",
    "n = len(sorted_weights)\n",
    "if n % 2 == 0:\n",
    "    median_weight = (sorted_weights[n // 2 - 1] + sorted_weights[n // 2]) / 2\n",
    "else:\n",
    "    median_weight = sorted_weights[n // 2]\n",
    "print(\"Median Weight:\", median_weight, \"kg\")\n"
   ]
  },
  {
   "cell_type": "markdown",
   "metadata": {
    "id": "yLb5awgPQeYA"
   },
   "source": [
    "* Write a Python code to print the first three elements from the list of age values corresponding to the key 'Age'"
   ]
  },
  {
   "cell_type": "code",
   "execution_count": null,
   "metadata": {
    "id": "wef2fVgx6Gji"
   },
   "outputs": [],
   "source": [
    "# Python code to print the first three elements for the key 'Age'\n",
    "\n",
    "first_three_ages = locality_data['Age'][:3]\n",
    "print(\"First Three Ages:\", first_three_ages)\n"
   ]
  },
  {
   "cell_type": "markdown",
   "metadata": {
    "id": "NGrZaqulRIM1"
   },
   "source": [
    "* Write a Python code to print the last two elements of the name list if the list of values corresponding to the key 'Name' contains the element 'Rashmi' else print 'Name not found'"
   ]
  },
  {
   "cell_type": "code",
   "execution_count": 7,
   "metadata": {
    "id": "TBRZzwAcRTNL"
   },
   "outputs": [
    {
     "name": "stdout",
     "output_type": "stream",
     "text": [
      "Last Two Names: ['Rashmi', 'Vaishali']\n"
     ]
    }
   ],
   "source": [
    "# Your code below\n",
    "\n",
    "\n",
    "if 'Rashmi' in locality_data['Name']:\n",
    "    # If 'Rashmi' is found, print the last two elements of the 'Name' list\n",
    "    last_two_names = locality_data['Name'][-2:]\n",
    "    print(\"Last Two Names:\", last_two_names)\n",
    "else:\n",
    "    # If 'Rashmi' is not found, print 'Name not found'\n",
    "    print(\"Name not found\")\n",
    "\n"
   ]
  },
  {
   "cell_type": "markdown",
   "metadata": {
    "id": "ejRCi-vTs8CU"
   },
   "source": [
    "## <u> Problem 3 </u>\n",
    "\n",
    "A student will not be allowed to sit in exam if his/her attendence is less than 75%.\n",
    "\n",
    "Take following input from user\n",
    "* Number of classes held\n",
    "* Number of classes attended."
   ]
  },
  {
   "cell_type": "code",
   "execution_count": null,
   "metadata": {
    "id": "C5olNuDGs8CU"
   },
   "outputs": [],
   "source": [
    "# Enter your input\n",
    "\n",
    "print(\"Number of classes held\")\n",
    "classes_held = int(input())\n",
    "\n",
    "print(\"Number of classes attended\")\n",
    "classes_attended = int(input())"
   ]
  },
  {
   "cell_type": "code",
   "execution_count": null,
   "metadata": {
    "id": "i553Hqamm2jR"
   },
   "outputs": [],
   "source": [
    "# Calculate the attendance percentage\n",
    "attendance = classes_attended*100/classes_held\n",
    "\n",
    "print(f'The attendance is {attendance}')"
   ]
  },
  {
   "cell_type": "markdown",
   "metadata": {
    "id": "QYDpXSANnKxV"
   },
   "source": [
    "And print the following statements based on the condition above\n",
    "\n",
    "* percentage of class attended\n",
    "* Is student is allowed to sit in exam or not."
   ]
  },
  {
   "cell_type": "code",
   "execution_count": null,
   "metadata": {
    "id": "SoQ3P0yym2ts"
   },
   "outputs": [],
   "source": [
    "# Your code here\n",
    "\n",
    "# Take input from the user\n",
    "total_classes_held = int(input(\"Enter the total number of classes held: \"))\n",
    "classes_attended = int(input(\"Enter the number of classes attended: \"))\n",
    "\n",
    "# Calculate the attendance percentage\n",
    "attendance_percentage = (classes_attended / total_classes_held) * 100\n",
    "\n",
    "# Check if the student is allowed to sit in the exam\n",
    "if attendance_percentage >= 75:\n",
    "    print(\"Percentage of classes attended:\", attendance_percentage, \"%\")\n",
    "    print(\"The student is allowed to sit in the exam.\")\n",
    "else:\n",
    "    print(\"Percentage of classes attended:\", attendance_percentage, \"%\")\n",
    "    print(\"The student is NOT allowed to sit in the exam.\")"
   ]
  },
  {
   "cell_type": "markdown",
   "metadata": {
    "id": "P1rOYC8Is8Cf"
   },
   "source": [
    "## <u>Problem 4</u>\n",
    "\n",
    "### A school has following rules for grading system:\n",
    "* Below 25 - F\n",
    "* 25 to 45 - E\n",
    "* 45 to 50 - D\n",
    "* 50 to 60 - C\n",
    "* 60 to 80 - B\n",
    "* Above 80 - A\n",
    "\n",
    "Keep the left number inclusive and the right number exclusive, something like [25,45) for grade E where the set is closed at 25 and open at 45.\n",
    "\n",
    "Write a Python code which takes marks as inputs from the user and print the corresponding grade."
   ]
  },
  {
   "cell_type": "code",
   "execution_count": null,
   "metadata": {
    "id": "ySeGyCtCs8Cg"
   },
   "outputs": [],
   "source": [
    "# Your input here\n",
    "print(\"Enter your marks\")\n",
    "marks = int(input())"
   ]
  },
  {
   "cell_type": "code",
   "execution_count": null,
   "metadata": {
    "id": "MI7mOHaqs8Cj"
   },
   "outputs": [],
   "source": [
    "# Your code here to print the corresponding grade\n",
    "\n",
    "\n",
    "\n",
    "\n",
    "\n",
    "# Take marks input from the user\n",
    "\n",
    "\n",
    "# Determine the grade based on the given grading system\n",
    "if marks < 25:\n",
    "    grade = \"F\"\n",
    "elif marks >= 25 and marks < 45:\n",
    "    grade = \"E\"\n",
    "elif marks >= 45 and marks < 50:\n",
    "    grade = \"D\"\n",
    "elif marks >= 50 and marks < 60:\n",
    "    grade = \"C\"\n",
    "elif marks >= 60 and marks < 80:\n",
    "    grade = \"B\"\n",
    "else:\n",
    "    grade = \"A\"\n",
    "\n",
    "# Print the corresponding grade\n",
    "print(\"Grade:\", grade)\n",
    "\n",
    "\n",
    "\n",
    "\n",
    "\n",
    "\n"
   ]
  }
 ],
 "metadata": {
  "colab": {
   "provenance": []
  },
  "kernelspec": {
   "display_name": "Python 3 (ipykernel)",
   "language": "python",
   "name": "python3"
  },
  "language_info": {
   "codemirror_mode": {
    "name": "ipython",
    "version": 3
   },
   "file_extension": ".py",
   "mimetype": "text/x-python",
   "name": "python",
   "nbconvert_exporter": "python",
   "pygments_lexer": "ipython3",
   "version": "3.9.13"
  }
 },
 "nbformat": 4,
 "nbformat_minor": 1
}
