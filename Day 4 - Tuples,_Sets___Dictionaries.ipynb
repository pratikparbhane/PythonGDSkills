{
 "cells": [
  {
   "cell_type": "markdown",
   "metadata": {
    "id": "XyN6An5ux2v8"
   },
   "source": [
    "# Tuples\n",
    "\n",
    "* In Python tuples are very similar to lists, however, unlike lists they are *immutable* meaning they can not be changed.\n",
    "\n",
    "\n",
    "* You would use tuples to present things that shouldn't be changed, such as days of the week, or dates on a calendar.\n",
    "\n",
    "\n",
    "* You'll have an intuition of how to use tuples based on what you've learned about lists. We can treat them very similarly with the <u>major distinction being that tuples are immutable</u>.\n",
    "\n",
    "\n",
    "## Constructing Tuples\n",
    "\n",
    "* The construction of a tuples use <code>()</code> with elements separated by commas."
   ]
  },
  {
   "cell_type": "code",
   "execution_count": 1,
   "metadata": {
    "id": "v6uqrGdAx2v-"
   },
   "outputs": [],
   "source": [
    "# Create a tuple\n",
    "my_tuple = (1,'a',3)"
   ]
  },
  {
   "cell_type": "code",
   "execution_count": 2,
   "metadata": {
    "colab": {
     "base_uri": "https://localhost:8080/"
    },
    "id": "AJWmfPGsx2wC",
    "outputId": "ef118229-30d2-44f0-e852-75ecc208396f"
   },
   "outputs": [
    {
     "name": "stdout",
     "output_type": "stream",
     "text": [
      "(1, 'a', 3)\n"
     ]
    }
   ],
   "source": [
    "print(my_tuple)"
   ]
  },
  {
   "cell_type": "code",
   "execution_count": 3,
   "metadata": {
    "colab": {
     "base_uri": "https://localhost:8080/"
    },
    "id": "fxgESNwMThmv",
    "outputId": "6fb94315-cf1e-40ff-a298-e1954b97b7da"
   },
   "outputs": [
    {
     "data": {
      "text/plain": [
       "tuple"
      ]
     },
     "execution_count": 3,
     "metadata": {},
     "output_type": "execute_result"
    }
   ],
   "source": [
    "type(my_tuple)"
   ]
  },
  {
   "cell_type": "code",
   "execution_count": 4,
   "metadata": {
    "colab": {
     "base_uri": "https://localhost:8080/"
    },
    "id": "6Q1TOAyNx2wG",
    "outputId": "d661113a-6833-4d23-d11b-f8e7f01b3173"
   },
   "outputs": [
    {
     "data": {
      "text/plain": [
       "('one', 2, 4.53, 'asbc')"
      ]
     },
     "execution_count": 4,
     "metadata": {},
     "output_type": "execute_result"
    }
   ],
   "source": [
    "# Can also mix object types\n",
    "another_tuple = ('one',2, 4.53, 'asbc')\n",
    "\n",
    "# Show\n",
    "another_tuple"
   ]
  },
  {
   "cell_type": "code",
   "execution_count": 5,
   "metadata": {
    "id": "rdMQ9x4lwN3f"
   },
   "outputs": [],
   "source": [
    "my_list = [1]"
   ]
  },
  {
   "cell_type": "code",
   "execution_count": 6,
   "metadata": {
    "colab": {
     "base_uri": "https://localhost:8080/"
    },
    "id": "N_mlfU7FwOnX",
    "outputId": "6117d8cf-4304-4261-a893-83abac44c008"
   },
   "outputs": [
    {
     "data": {
      "text/plain": [
       "list"
      ]
     },
     "execution_count": 6,
     "metadata": {},
     "output_type": "execute_result"
    }
   ],
   "source": [
    "type(my_list)"
   ]
  },
  {
   "cell_type": "code",
   "execution_count": 7,
   "metadata": {
    "id": "Qg1qp0jGwPRZ"
   },
   "outputs": [],
   "source": [
    "my_tuple = (1,)"
   ]
  },
  {
   "cell_type": "code",
   "execution_count": 8,
   "metadata": {
    "colab": {
     "base_uri": "https://localhost:8080/"
    },
    "id": "dFs4gMVowaRh",
    "outputId": "bfb98e10-0858-4172-e46d-3f7b9c83c0c3"
   },
   "outputs": [
    {
     "data": {
      "text/plain": [
       "tuple"
      ]
     },
     "execution_count": 8,
     "metadata": {},
     "output_type": "execute_result"
    }
   ],
   "source": [
    "type(my_tuple)"
   ]
  },
  {
   "cell_type": "code",
   "execution_count": 9,
   "metadata": {
    "id": "dpbiMeBzUkA5"
   },
   "outputs": [],
   "source": [
    "my_tuple = 1,2,3"
   ]
  },
  {
   "cell_type": "code",
   "execution_count": 10,
   "metadata": {
    "colab": {
     "base_uri": "https://localhost:8080/"
    },
    "id": "mhzDE0a5wzsN",
    "outputId": "efbfc53a-2bb9-44f6-818d-0bc09e2a2a1a"
   },
   "outputs": [
    {
     "data": {
      "text/plain": [
       "tuple"
      ]
     },
     "execution_count": 10,
     "metadata": {},
     "output_type": "execute_result"
    }
   ],
   "source": [
    "type(my_tuple)"
   ]
  },
  {
   "cell_type": "code",
   "execution_count": 11,
   "metadata": {
    "id": "3XasyDgzwaft"
   },
   "outputs": [],
   "source": [
    "my_tuple = (1,2,3,4)"
   ]
  },
  {
   "cell_type": "code",
   "execution_count": 12,
   "metadata": {
    "colab": {
     "base_uri": "https://localhost:8080/"
    },
    "id": "huPIwRVVx2wK",
    "outputId": "aa123ec1-031c-450a-f532-afd867ccffcb"
   },
   "outputs": [
    {
     "data": {
      "text/plain": [
       "4"
      ]
     },
     "execution_count": 12,
     "metadata": {},
     "output_type": "execute_result"
    }
   ],
   "source": [
    "len(my_tuple)"
   ]
  },
  {
   "cell_type": "markdown",
   "metadata": {
    "id": "QutmafNzx2wN"
   },
   "source": [
    "## Tuple Indexing\n",
    "\n",
    "* Indexing work just like in lists.\n",
    "\n",
    "\n",
    "* A tuple index refers to the location of an element in a tuple.\n",
    "\n",
    "\n",
    "* Remember the indexing begins from 0 in Python.\n",
    "\n",
    "\n",
    "* The first element is assigned an index 0, the second element is assigned an index of 1 and so on and so forth."
   ]
  },
  {
   "cell_type": "code",
   "execution_count": 13,
   "metadata": {
    "colab": {
     "base_uri": "https://localhost:8080/"
    },
    "id": "ZpAn22VZV5o7",
    "outputId": "f7f0df16-e291-4e7a-9e99-e00ba38dbf90"
   },
   "outputs": [
    {
     "name": "stdout",
     "output_type": "stream",
     "text": [
      "('one', 2, 4.53, 'asbc')\n"
     ]
    }
   ],
   "source": [
    "print(another_tuple)"
   ]
  },
  {
   "cell_type": "code",
   "execution_count": 14,
   "metadata": {
    "colab": {
     "base_uri": "https://localhost:8080/",
     "height": 34
    },
    "id": "wcxawypZx2wN",
    "outputId": "e0964870-c4c3-465a-9314-68fa989168cf"
   },
   "outputs": [
    {
     "data": {
      "text/plain": [
       "'one'"
      ]
     },
     "execution_count": 14,
     "metadata": {},
     "output_type": "execute_result"
    }
   ],
   "source": [
    "# Grab the element at index 0, which is the FIRST element\n",
    "another_tuple[0]"
   ]
  },
  {
   "cell_type": "code",
   "execution_count": 15,
   "metadata": {
    "colab": {
     "base_uri": "https://localhost:8080/",
     "height": 34
    },
    "id": "cGmGukFtx2wR",
    "outputId": "2836b79e-35ad-4328-a518-51b3571940f6"
   },
   "outputs": [
    {
     "data": {
      "text/plain": [
       "'asbc'"
      ]
     },
     "execution_count": 15,
     "metadata": {},
     "output_type": "execute_result"
    }
   ],
   "source": [
    "# Grab the element at index 3, which is the FOURTH element\n",
    "another_tuple[3]"
   ]
  },
  {
   "cell_type": "code",
   "execution_count": 16,
   "metadata": {
    "colab": {
     "base_uri": "https://localhost:8080/",
     "height": 34
    },
    "id": "juNr6LZnx2wU",
    "outputId": "837225dd-81b7-4c1b-9b42-5da569b540e2"
   },
   "outputs": [
    {
     "data": {
      "text/plain": [
       "'asbc'"
      ]
     },
     "execution_count": 16,
     "metadata": {},
     "output_type": "execute_result"
    }
   ],
   "source": [
    "# Grab the element at the index -1, which is the LAST element\n",
    "another_tuple[-1]"
   ]
  },
  {
   "cell_type": "code",
   "execution_count": 17,
   "metadata": {
    "colab": {
     "base_uri": "https://localhost:8080/"
    },
    "id": "bZiLXFa3x2wX",
    "outputId": "9ea4f41f-a825-438e-93c4-e8b2f864742e"
   },
   "outputs": [
    {
     "data": {
      "text/plain": [
       "2"
      ]
     },
     "execution_count": 17,
     "metadata": {},
     "output_type": "execute_result"
    }
   ],
   "source": [
    "# Grab the element at the index -3, which is the THIRD LAST element\n",
    "another_tuple[-3]"
   ]
  },
  {
   "cell_type": "markdown",
   "metadata": {
    "id": "v_Dz0Rf8x2wZ"
   },
   "source": [
    "## Tuple Slicing\n",
    "\n",
    "* We can use a <code>:</code> to perform *slicing* which grabs everything up to a designated point.\n",
    "\n",
    "\n",
    "* The starting index is specified on the left of the <code>:</code> and the ending index is specified on the right of the <code>:</code>.\n",
    "\n",
    "\n",
    "* Remember the element located at the right index is not included."
   ]
  },
  {
   "cell_type": "code",
   "execution_count": 18,
   "metadata": {
    "colab": {
     "base_uri": "https://localhost:8080/"
    },
    "id": "gpNaAjgLx2wZ",
    "outputId": "3b52ddc7-f999-4f42-981b-e171178e813e"
   },
   "outputs": [
    {
     "name": "stdout",
     "output_type": "stream",
     "text": [
      "('one', 2, 4.53, 'asbc')\n"
     ]
    }
   ],
   "source": [
    "# Print our list\n",
    "print(another_tuple)"
   ]
  },
  {
   "cell_type": "code",
   "execution_count": 19,
   "metadata": {
    "colab": {
     "base_uri": "https://localhost:8080/"
    },
    "id": "KOVYp2O-x2wc",
    "outputId": "840c0ae3-35a6-4429-8c3f-3163d6d50bf9"
   },
   "outputs": [
    {
     "data": {
      "text/plain": [
       "(2, 4.53)"
      ]
     },
     "execution_count": 19,
     "metadata": {},
     "output_type": "execute_result"
    }
   ],
   "source": [
    "# Grab the elements starting from index 1 and everything past it\n",
    "another_tuple[1:3]"
   ]
  },
  {
   "cell_type": "markdown",
   "metadata": {
    "id": "tRf9M55tx2wf"
   },
   "source": [
    "* If you do not specify the ending index, then all elements are extracted which comes after the starting index including the element at that starting index. The operation knows only to stop when it has run through the entire tuple."
   ]
  },
  {
   "cell_type": "code",
   "execution_count": 20,
   "metadata": {
    "colab": {
     "base_uri": "https://localhost:8080/"
    },
    "id": "qP9KxBbwx2wf",
    "outputId": "4b58144c-e17c-4f54-b477-e468cfd18e61"
   },
   "outputs": [
    {
     "data": {
      "text/plain": [
       "(4.53, 'asbc')"
      ]
     },
     "execution_count": 20,
     "metadata": {},
     "output_type": "execute_result"
    }
   ],
   "source": [
    "# Grab everything starting from index 2\n",
    "another_tuple[2:]"
   ]
  },
  {
   "cell_type": "markdown",
   "metadata": {
    "id": "PgKv1f2qx2wj"
   },
   "source": [
    "* If you do not specify the starting index, then all elements are extracted which comes befores the ending index excluding the element at the specified ending index. The operation knows only to stop when it has extracted all elements before the  element at the ending index."
   ]
  },
  {
   "cell_type": "code",
   "execution_count": 21,
   "metadata": {
    "colab": {
     "base_uri": "https://localhost:8080/"
    },
    "id": "u_kPO20kx2wj",
    "outputId": "cdf39849-7ebb-46ac-8ce7-23f0307083c6"
   },
   "outputs": [
    {
     "data": {
      "text/plain": [
       "('one', 2, 4.53, 'asbc')"
      ]
     },
     "execution_count": 21,
     "metadata": {},
     "output_type": "execute_result"
    }
   ],
   "source": [
    "# Grab everything before the index 4\n",
    "another_tuple[:6]"
   ]
  },
  {
   "cell_type": "markdown",
   "metadata": {
    "id": "1qkOSf_Vx2wn"
   },
   "source": [
    "* If you do not specify the starting and the ending index, it will extract all elements of the tuple."
   ]
  },
  {
   "cell_type": "code",
   "execution_count": 22,
   "metadata": {
    "colab": {
     "base_uri": "https://localhost:8080/"
    },
    "id": "2dIvFwW9x2wn",
    "outputId": "f19db829-4c23-4906-c3ec-9feb838d94dd"
   },
   "outputs": [
    {
     "data": {
      "text/plain": [
       "('one', 2, 4.53, 'asbc')"
      ]
     },
     "execution_count": 22,
     "metadata": {},
     "output_type": "execute_result"
    }
   ],
   "source": [
    "# Grab everything\n",
    "another_tuple"
   ]
  },
  {
   "cell_type": "markdown",
   "metadata": {
    "id": "SdKU_cPFx2wp"
   },
   "source": [
    "* We can also extract the last four elements. Remember we can use the index -4 to extract the FOURTH LAST element"
   ]
  },
  {
   "cell_type": "code",
   "execution_count": 23,
   "metadata": {
    "colab": {
     "base_uri": "https://localhost:8080/"
    },
    "id": "gvcyMuHkx2wq",
    "outputId": "3bacc63d-6453-4889-c96f-d660abe5d820"
   },
   "outputs": [
    {
     "data": {
      "text/plain": [
       "('one', 2, 4.53, 'asbc')"
      ]
     },
     "execution_count": 23,
     "metadata": {},
     "output_type": "execute_result"
    }
   ],
   "source": [
    "# Grab the LAST FOUR elements of the list\n",
    "another_tuple[-4:]"
   ]
  },
  {
   "cell_type": "markdown",
   "metadata": {
    "id": "9lCrYVHmx2ws"
   },
   "source": [
    "* It should also be noted that tuple indexing will return an error if there is no element at that index."
   ]
  },
  {
   "cell_type": "code",
   "execution_count": 24,
   "metadata": {
    "colab": {
     "base_uri": "https://localhost:8080/",
     "height": 166
    },
    "id": "qbHiONdnx2wt",
    "outputId": "27b7360a-4f7f-462e-ac67-2750df2e12d8"
   },
   "outputs": [
    {
     "ename": "IndexError",
     "evalue": "tuple index out of range",
     "output_type": "error",
     "traceback": [
      "\u001b[1;31m---------------------------------------------------------------------------\u001b[0m",
      "\u001b[1;31mIndexError\u001b[0m                                Traceback (most recent call last)",
      "\u001b[1;32m~\\AppData\\Local\\Temp\\ipykernel_71416\\544092372.py\u001b[0m in \u001b[0;36m<module>\u001b[1;34m\u001b[0m\n\u001b[1;32m----> 1\u001b[1;33m \u001b[0manother_tuple\u001b[0m\u001b[1;33m[\u001b[0m\u001b[1;36m5\u001b[0m\u001b[1;33m]\u001b[0m\u001b[1;33m\u001b[0m\u001b[1;33m\u001b[0m\u001b[0m\n\u001b[0m",
      "\u001b[1;31mIndexError\u001b[0m: tuple index out of range"
     ]
    }
   ],
   "source": [
    "another_tuple[5]"
   ]
  },
  {
   "cell_type": "code",
   "execution_count": 25,
   "metadata": {
    "colab": {
     "base_uri": "https://localhost:8080/"
    },
    "id": "CzJEQohvx2wy",
    "outputId": "13294e6f-fc00-47b0-aa7d-909fa64695b5"
   },
   "outputs": [
    {
     "data": {
      "text/plain": [
       "4"
      ]
     },
     "execution_count": 25,
     "metadata": {},
     "output_type": "execute_result"
    }
   ],
   "source": [
    "# Check len just like a list\n",
    "len(another_tuple)"
   ]
  },
  {
   "cell_type": "code",
   "execution_count": 26,
   "metadata": {
    "id": "voUVF0NfyuM9"
   },
   "outputs": [],
   "source": [
    "random_tuple = (1,5,6,2)"
   ]
  },
  {
   "cell_type": "code",
   "execution_count": 27,
   "metadata": {
    "colab": {
     "base_uri": "https://localhost:8080/"
    },
    "id": "EbGyqDzUyyX6",
    "outputId": "ec62362b-cfa9-426f-bb92-a15c129c85c7"
   },
   "outputs": [
    {
     "data": {
      "text/plain": [
       "[1, 2, 5, 6]"
      ]
     },
     "execution_count": 27,
     "metadata": {},
     "output_type": "execute_result"
    }
   ],
   "source": [
    "sorted(random_tuple)"
   ]
  },
  {
   "cell_type": "markdown",
   "metadata": {
    "id": "6NaL3DU1x2w1"
   },
   "source": [
    "## Tuple Methods\n",
    "\n",
    "* Tuples have built-in methods, but not as many as lists do."
   ]
  },
  {
   "cell_type": "markdown",
   "metadata": {
    "id": "INOUJ-IJx2w1"
   },
   "source": [
    "### <code>index()</code>\n",
    "\n",
    "\n",
    "* The <code>index()</code> method returns the index of a specified element."
   ]
  },
  {
   "cell_type": "code",
   "execution_count": 28,
   "metadata": {
    "id": "PxssLKRkx2w2"
   },
   "outputs": [],
   "source": [
    "my_tuple =(1,2,3,4,5,6,1,1,2)"
   ]
  },
  {
   "cell_type": "code",
   "execution_count": 29,
   "metadata": {
    "colab": {
     "base_uri": "https://localhost:8080/"
    },
    "id": "5YOxgp1Xx2w4",
    "outputId": "d2a07779-6ff6-41fd-ffdb-b514d3e146d0"
   },
   "outputs": [
    {
     "data": {
      "text/plain": [
       "1"
      ]
     },
     "execution_count": 29,
     "metadata": {},
     "output_type": "execute_result"
    }
   ],
   "source": [
    "# Use .index to enter a value and return the index\n",
    "my_tuple.index(2)"
   ]
  },
  {
   "cell_type": "markdown",
   "metadata": {
    "id": "6MHUetrLx2w6"
   },
   "source": [
    "### <code>count()</code>\n",
    "\n",
    "\n",
    "* The <code>count()</code> method returns the total occurrence of a specified element in a tuple"
   ]
  },
  {
   "cell_type": "code",
   "execution_count": 30,
   "metadata": {
    "colab": {
     "base_uri": "https://localhost:8080/"
    },
    "id": "InNQ8DqUx2w6",
    "outputId": "f478ad25-7d19-4a27-f3af-fce6457e4961"
   },
   "outputs": [
    {
     "data": {
      "text/plain": [
       "2"
      ]
     },
     "execution_count": 30,
     "metadata": {},
     "output_type": "execute_result"
    }
   ],
   "source": [
    "# Use .count to count the number of times a value appears\n",
    "my_tuple.count(2)"
   ]
  },
  {
   "cell_type": "code",
   "execution_count": 31,
   "metadata": {
    "colab": {
     "base_uri": "https://localhost:8080/"
    },
    "id": "cINAVl65x2w8",
    "outputId": "da9790dc-f650-4ba3-c37d-aef5e2bbd7c7"
   },
   "outputs": [
    {
     "data": {
      "text/plain": [
       "3"
      ]
     },
     "execution_count": 31,
     "metadata": {},
     "output_type": "execute_result"
    }
   ],
   "source": [
    "my_tuple.count(1)"
   ]
  },
  {
   "cell_type": "code",
   "execution_count": 32,
   "metadata": {
    "id": "FJwxB5x3ZRQw"
   },
   "outputs": [
    {
     "ename": "SyntaxError",
     "evalue": "invalid syntax (4291612173.py, line 1)",
     "output_type": "error",
     "traceback": [
      "\u001b[1;36m  File \u001b[1;32m\"C:\\Users\\Shubhankit\\AppData\\Local\\Temp\\ipykernel_71416\\4291612173.py\"\u001b[1;36m, line \u001b[1;32m1\u001b[0m\n\u001b[1;33m    my_tuple.\u001b[0m\n\u001b[1;37m             ^\u001b[0m\n\u001b[1;31mSyntaxError\u001b[0m\u001b[1;31m:\u001b[0m invalid syntax\n"
     ]
    }
   ],
   "source": [
    "my_tuple."
   ]
  },
  {
   "cell_type": "code",
   "execution_count": 33,
   "metadata": {
    "id": "77eLJW6VZVbA"
   },
   "outputs": [],
   "source": [
    "my_list = [1,2,3,4]"
   ]
  },
  {
   "cell_type": "code",
   "execution_count": 34,
   "metadata": {
    "id": "7az6tjANZXXA"
   },
   "outputs": [
    {
     "ename": "SyntaxError",
     "evalue": "invalid syntax (156127718.py, line 1)",
     "output_type": "error",
     "traceback": [
      "\u001b[1;36m  File \u001b[1;32m\"C:\\Users\\Shubhankit\\AppData\\Local\\Temp\\ipykernel_71416\\156127718.py\"\u001b[1;36m, line \u001b[1;32m1\u001b[0m\n\u001b[1;33m    my_list.\u001b[0m\n\u001b[1;37m            ^\u001b[0m\n\u001b[1;31mSyntaxError\u001b[0m\u001b[1;31m:\u001b[0m invalid syntax\n"
     ]
    }
   ],
   "source": [
    "my_list."
   ]
  },
  {
   "cell_type": "markdown",
   "metadata": {
    "id": "o_B-5yhsx2w-"
   },
   "source": [
    "## Immutability\n",
    "\n",
    "* It can't be stressed enough that tuples are immutable."
   ]
  },
  {
   "cell_type": "code",
   "execution_count": 35,
   "metadata": {
    "colab": {
     "base_uri": "https://localhost:8080/"
    },
    "id": "eVHBqLlkZ79R",
    "outputId": "9693c86e-45b6-4fba-f75a-fc9e31b9594f"
   },
   "outputs": [
    {
     "name": "stdout",
     "output_type": "stream",
     "text": [
      "(1, 2, 3, 4, 5, 6, 1, 1, 2)\n"
     ]
    }
   ],
   "source": [
    "print(my_tuple)"
   ]
  },
  {
   "cell_type": "code",
   "execution_count": 36,
   "metadata": {
    "colab": {
     "base_uri": "https://localhost:8080/"
    },
    "id": "VO93y72Gx2w_",
    "outputId": "d9053075-0984-477e-ea6d-d36ef9cc398f"
   },
   "outputs": [
    {
     "data": {
      "text/plain": [
       "1"
      ]
     },
     "execution_count": 36,
     "metadata": {},
     "output_type": "execute_result"
    }
   ],
   "source": [
    "my_tuple[0]"
   ]
  },
  {
   "cell_type": "code",
   "execution_count": 37,
   "metadata": {
    "colab": {
     "base_uri": "https://localhost:8080/",
     "height": 166
    },
    "id": "w5IKgVqkx2xB",
    "outputId": "b04877e4-70ba-4632-f636-9dbc157c5c2c"
   },
   "outputs": [
    {
     "ename": "TypeError",
     "evalue": "'tuple' object does not support item assignment",
     "output_type": "error",
     "traceback": [
      "\u001b[1;31m---------------------------------------------------------------------------\u001b[0m",
      "\u001b[1;31mTypeError\u001b[0m                                 Traceback (most recent call last)",
      "\u001b[1;32m~\\AppData\\Local\\Temp\\ipykernel_71416\\2206961586.py\u001b[0m in \u001b[0;36m<module>\u001b[1;34m\u001b[0m\n\u001b[1;32m----> 1\u001b[1;33m \u001b[0mmy_tuple\u001b[0m\u001b[1;33m[\u001b[0m\u001b[1;36m0\u001b[0m\u001b[1;33m]\u001b[0m \u001b[1;33m=\u001b[0m \u001b[1;34m'change'\u001b[0m\u001b[1;33m\u001b[0m\u001b[1;33m\u001b[0m\u001b[0m\n\u001b[0m",
      "\u001b[1;31mTypeError\u001b[0m: 'tuple' object does not support item assignment"
     ]
    }
   ],
   "source": [
    "my_tuple[0] = 'change'"
   ]
  },
  {
   "cell_type": "markdown",
   "metadata": {
    "id": "AY5i1-jrx2xD"
   },
   "source": [
    "* Because of this immutability, tuples can't grow. Once a tuple is made we can not add to it."
   ]
  },
  {
   "cell_type": "markdown",
   "metadata": {
    "id": "Wu7kIjSNx2xE"
   },
   "source": [
    "* Let us consider a list and lets see if we can do this operation on them"
   ]
  },
  {
   "cell_type": "code",
   "execution_count": 38,
   "metadata": {
    "id": "iv-fMwN-x2xE"
   },
   "outputs": [],
   "source": [
    "# Create a list\n",
    "my_list = [5,7,9,3,2]"
   ]
  },
  {
   "cell_type": "code",
   "execution_count": 39,
   "metadata": {
    "id": "7tzllaFJx2xG"
   },
   "outputs": [],
   "source": [
    "# Replace the FIRST element with the value 1\n",
    "my_list[0] = 1"
   ]
  },
  {
   "cell_type": "code",
   "execution_count": 40,
   "metadata": {
    "colab": {
     "base_uri": "https://localhost:8080/"
    },
    "id": "Srx-bzhDx2xJ",
    "outputId": "27d0b763-edbe-429b-8efb-4dbb87e51d02"
   },
   "outputs": [
    {
     "data": {
      "text/plain": [
       "[1, 7, 9, 3, 2]"
      ]
     },
     "execution_count": 40,
     "metadata": {},
     "output_type": "execute_result"
    }
   ],
   "source": [
    "# Our modified list\n",
    "my_list"
   ]
  },
  {
   "cell_type": "markdown",
   "metadata": {
    "id": "4JSa0bw9x2xL"
   },
   "source": [
    "* Tuple does not support methods such as <code>append()</code>, <code>extend()</code>, <code>remove()</code>, <code>pop()</code>"
   ]
  },
  {
   "cell_type": "code",
   "execution_count": 41,
   "metadata": {
    "colab": {
     "base_uri": "https://localhost:8080/",
     "height": 166
    },
    "id": "zY0mWGohx2xM",
    "outputId": "cd39ecc8-8346-461f-822a-b3c149db9458"
   },
   "outputs": [
    {
     "ename": "AttributeError",
     "evalue": "'tuple' object has no attribute 'append'",
     "output_type": "error",
     "traceback": [
      "\u001b[1;31m---------------------------------------------------------------------------\u001b[0m",
      "\u001b[1;31mAttributeError\u001b[0m                            Traceback (most recent call last)",
      "\u001b[1;32m~\\AppData\\Local\\Temp\\ipykernel_71416\\2143535512.py\u001b[0m in \u001b[0;36m<module>\u001b[1;34m\u001b[0m\n\u001b[1;32m----> 1\u001b[1;33m \u001b[0mmy_tuple\u001b[0m\u001b[1;33m.\u001b[0m\u001b[0mappend\u001b[0m\u001b[1;33m(\u001b[0m\u001b[1;34m'Great!'\u001b[0m\u001b[1;33m)\u001b[0m\u001b[1;33m\u001b[0m\u001b[1;33m\u001b[0m\u001b[0m\n\u001b[0m",
      "\u001b[1;31mAttributeError\u001b[0m: 'tuple' object has no attribute 'append'"
     ]
    }
   ],
   "source": [
    "my_tuple.append('Great!')"
   ]
  },
  {
   "cell_type": "markdown",
   "metadata": {
    "id": "FY0pToLax2xO"
   },
   "source": [
    "### <code>zip()</code>\n",
    "\n",
    "\n",
    "* <code>zip()</code> function takes multiple lists as arguments and zips them together\n",
    "\n",
    "\n",
    "* This function returns a list of n-paired tuples where n is the number of lists being zipped"
   ]
  },
  {
   "cell_type": "code",
   "execution_count": 42,
   "metadata": {
    "id": "nZqkre4Ex2xP"
   },
   "outputs": [],
   "source": [
    "city_list = ['Delhi','Patna','Cuttack','Guwahati']\n",
    "river_list = ['Yamuna','Ganga','Mahanadi','Brahmaputra']"
   ]
  },
  {
   "cell_type": "code",
   "execution_count": 43,
   "metadata": {
    "colab": {
     "base_uri": "https://localhost:8080/"
    },
    "id": "557Z0mC-cXRE",
    "outputId": "df171a07-4925-4829-e79c-a7d500077ce5"
   },
   "outputs": [
    {
     "data": {
      "text/plain": [
       "<zip at 0x299e9437f80>"
      ]
     },
     "execution_count": 43,
     "metadata": {},
     "output_type": "execute_result"
    }
   ],
   "source": [
    "zip(city_list, river_list)"
   ]
  },
  {
   "cell_type": "code",
   "execution_count": 44,
   "metadata": {
    "id": "Z4nluMN5x2xR"
   },
   "outputs": [],
   "source": [
    "city_and_their_rivers = list(zip(city_list,river_list))"
   ]
  },
  {
   "cell_type": "code",
   "execution_count": 45,
   "metadata": {
    "colab": {
     "base_uri": "https://localhost:8080/"
    },
    "id": "y2NaSS0tx2xT",
    "outputId": "3bd216cb-4926-410b-e695-2202adb9ee7f"
   },
   "outputs": [
    {
     "data": {
      "text/plain": [
       "[('Delhi', 'Yamuna'),\n",
       " ('Patna', 'Ganga'),\n",
       " ('Cuttack', 'Mahanadi'),\n",
       " ('Guwahati', 'Brahmaputra')]"
      ]
     },
     "execution_count": 45,
     "metadata": {},
     "output_type": "execute_result"
    }
   ],
   "source": [
    "city_and_their_rivers"
   ]
  },
  {
   "cell_type": "code",
   "execution_count": 46,
   "metadata": {
    "id": "wx1ha97Hdqy7"
   },
   "outputs": [],
   "source": [
    "city_list = ['Delhi','Patna','Cuttack','Guwahati']\n",
    "river_list = ['Yamuna','Ganga','Mahanadi','Brahamputra','Thames']"
   ]
  },
  {
   "cell_type": "code",
   "execution_count": 47,
   "metadata": {
    "colab": {
     "base_uri": "https://localhost:8080/"
    },
    "id": "4VEA76OadwAs",
    "outputId": "8967c2b4-2677-4594-f6c8-eefcbd077b7c"
   },
   "outputs": [
    {
     "data": {
      "text/plain": [
       "[('Delhi', 'Yamuna'),\n",
       " ('Patna', 'Ganga'),\n",
       " ('Cuttack', 'Mahanadi'),\n",
       " ('Guwahati', 'Brahamputra')]"
      ]
     },
     "execution_count": 47,
     "metadata": {},
     "output_type": "execute_result"
    }
   ],
   "source": [
    "list(zip(city_list,river_list))"
   ]
  },
  {
   "cell_type": "markdown",
   "metadata": {
    "id": "yMYuf2Hvx2xV"
   },
   "source": [
    "## When to use Tuples\n",
    "\n",
    "* You may be wondering, \"Why bother using tuples when they have fewer available methods?\" To be honest, tuples are not used as often as lists in programming, but are used when immutability is necessary. If in your program you are passing around an object and need to make sure it does not get changed, then a tuple becomes your solution. It provides a convenient source of data integrity.\n",
    "\n",
    "\n",
    "* You will find them often in functions when you are returning some values\n",
    "\n",
    "\n",
    "* You should now be able to create and use tuples in your programming as well as have an understanding of their immutability."
   ]
  },
  {
   "cell_type": "markdown",
   "metadata": {
    "id": "Fy6-SFXHx2xW"
   },
   "source": [
    "# Sets\n",
    "\n",
    "* Sets are an unordered collection of *unique* elements. We can construct them by using the <code>set()</code> function.\n",
    "\n",
    "\n",
    "* Sets cannot have duplicates.\n",
    "\n",
    "\n",
    "* Sets are mutable just like lists.\n",
    "\n",
    "\n",
    "* You can create a non-empty set with curly braces by specifying elements separated by a comma."
   ]
  },
  {
   "cell_type": "code",
   "execution_count": 48,
   "metadata": {
    "id": "utCm3Vlmx2xW"
   },
   "outputs": [],
   "source": [
    "# Create an empty set\n",
    "empty_set = set()"
   ]
  },
  {
   "cell_type": "code",
   "execution_count": 49,
   "metadata": {
    "colab": {
     "base_uri": "https://localhost:8080/"
    },
    "id": "Yt9nkoOcx2xY",
    "outputId": "25c09af4-69f9-403e-f8f2-3457fbd22f0a"
   },
   "outputs": [
    {
     "data": {
      "text/plain": [
       "set"
      ]
     },
     "execution_count": 49,
     "metadata": {},
     "output_type": "execute_result"
    }
   ],
   "source": [
    "type(empty_set)"
   ]
  },
  {
   "cell_type": "code",
   "execution_count": 50,
   "metadata": {
    "id": "9mWIu_PFx2xZ"
   },
   "outputs": [],
   "source": [
    "# Create a non-empty set within curly braces\n",
    "non_empty_set = {1,6,4,'abc'}"
   ]
  },
  {
   "cell_type": "code",
   "execution_count": 51,
   "metadata": {
    "colab": {
     "base_uri": "https://localhost:8080/"
    },
    "id": "MDI_a8slx2xb",
    "outputId": "6d9cb3c7-8314-47bd-a76c-459396e19b08"
   },
   "outputs": [
    {
     "data": {
      "text/plain": [
       "set"
      ]
     },
     "execution_count": 51,
     "metadata": {},
     "output_type": "execute_result"
    }
   ],
   "source": [
    "type(non_empty_set)"
   ]
  },
  {
   "cell_type": "markdown",
   "metadata": {
    "id": "YMD--2K9x2xe"
   },
   "source": [
    "## A Time for Caution\n",
    "\n",
    "* An empty set cannot be represented as <code>{}</code>, which is reserved for an <u>empty dictionary</u> which we will get to know in a short while"
   ]
  },
  {
   "cell_type": "code",
   "execution_count": 52,
   "metadata": {
    "id": "CohTP3Qfx2xe"
   },
   "outputs": [],
   "source": [
    "my_object = {}"
   ]
  },
  {
   "cell_type": "code",
   "execution_count": 53,
   "metadata": {
    "colab": {
     "base_uri": "https://localhost:8080/"
    },
    "id": "hWTaSIAMx2xg",
    "outputId": "9f5b659a-539c-482a-eec1-09cc3f6959c5"
   },
   "outputs": [
    {
     "data": {
      "text/plain": [
       "dict"
      ]
     },
     "execution_count": 53,
     "metadata": {},
     "output_type": "execute_result"
    }
   ],
   "source": [
    "type(my_object)"
   ]
  },
  {
   "cell_type": "code",
   "execution_count": 54,
   "metadata": {
    "id": "kMaqioALx2xj"
   },
   "outputs": [],
   "source": [
    "my_set = set()"
   ]
  },
  {
   "cell_type": "code",
   "execution_count": 55,
   "metadata": {
    "colab": {
     "base_uri": "https://localhost:8080/"
    },
    "id": "Bu1iyqLrx2xl",
    "outputId": "6df99642-830d-4add-85d7-24d1fefd7b07"
   },
   "outputs": [
    {
     "data": {
      "text/plain": [
       "set"
      ]
     },
     "execution_count": 55,
     "metadata": {},
     "output_type": "execute_result"
    }
   ],
   "source": [
    "type(my_set)"
   ]
  },
  {
   "cell_type": "markdown",
   "metadata": {
    "id": "ctWYu0cUx2xn"
   },
   "source": [
    "*  We can cast a list with multiple repeat elements to a set to get the unique elements."
   ]
  },
  {
   "cell_type": "code",
   "execution_count": 56,
   "metadata": {
    "id": "sUh8Zv8Rx2xo"
   },
   "outputs": [],
   "source": [
    "# Create a list with repeats\n",
    "my_list = [1,1,2,2,3,4,5,6,1,1]"
   ]
  },
  {
   "cell_type": "code",
   "execution_count": 57,
   "metadata": {
    "id": "Kdr-pcGRx2xr"
   },
   "outputs": [],
   "source": [
    "# Cast as set to get unique values\n",
    "my_set = set(my_list)"
   ]
  },
  {
   "cell_type": "code",
   "execution_count": 58,
   "metadata": {
    "colab": {
     "base_uri": "https://localhost:8080/"
    },
    "id": "2nXbPmqRx2xt",
    "outputId": "50258a60-b911-4ad6-847e-3553a969786f"
   },
   "outputs": [
    {
     "data": {
      "text/plain": [
       "{1, 2, 3, 4, 5, 6}"
      ]
     },
     "execution_count": 58,
     "metadata": {},
     "output_type": "execute_result"
    }
   ],
   "source": [
    "my_set"
   ]
  },
  {
   "cell_type": "code",
   "execution_count": 59,
   "metadata": {
    "id": "XBZqcSLyx2xv"
   },
   "outputs": [],
   "source": [
    "# A set cannot have mutable items\n",
    "my_set = {1, 2, (3, 4)}"
   ]
  },
  {
   "cell_type": "markdown",
   "metadata": {
    "id": "7GuQNu1ix2xx"
   },
   "source": [
    "* We cannot create a set whose any of the elements is a list"
   ]
  },
  {
   "cell_type": "code",
   "execution_count": 60,
   "metadata": {
    "id": "lt_RVt86x2xy"
   },
   "outputs": [],
   "source": [
    "# But we can have tuples as set elements, they are immutable\n",
    "my_set = {1, 2, (2,3)}"
   ]
  },
  {
   "cell_type": "code",
   "execution_count": 61,
   "metadata": {
    "colab": {
     "base_uri": "https://localhost:8080/"
    },
    "id": "1dj_FMzkx2x1",
    "outputId": "bdf393ba-439f-4324-9bc0-d09c4d6c67f9"
   },
   "outputs": [
    {
     "data": {
      "text/plain": [
       "{(2, 3), 1, 2}"
      ]
     },
     "execution_count": 61,
     "metadata": {},
     "output_type": "execute_result"
    }
   ],
   "source": [
    "my_set"
   ]
  },
  {
   "cell_type": "code",
   "execution_count": 62,
   "metadata": {
    "colab": {
     "base_uri": "https://localhost:8080/",
     "height": 166
    },
    "id": "WrYzn-Pg72u7",
    "outputId": "04a9a318-17e8-4ccd-f115-fa0ac2a44311"
   },
   "outputs": [
    {
     "ename": "TypeError",
     "evalue": "unhashable type: 'set'",
     "output_type": "error",
     "traceback": [
      "\u001b[1;31m---------------------------------------------------------------------------\u001b[0m",
      "\u001b[1;31mTypeError\u001b[0m                                 Traceback (most recent call last)",
      "\u001b[1;32m~\\AppData\\Local\\Temp\\ipykernel_71416\\1646729827.py\u001b[0m in \u001b[0;36m<module>\u001b[1;34m\u001b[0m\n\u001b[1;32m----> 1\u001b[1;33m \u001b[0mmy_set\u001b[0m \u001b[1;33m=\u001b[0m \u001b[1;33m{\u001b[0m\u001b[1;36m1\u001b[0m\u001b[1;33m,\u001b[0m\u001b[1;36m2\u001b[0m\u001b[1;33m,\u001b[0m \u001b[1;33m{\u001b[0m\u001b[1;36m3\u001b[0m\u001b[1;33m,\u001b[0m\u001b[1;36m5\u001b[0m\u001b[1;33m}\u001b[0m\u001b[1;33m}\u001b[0m\u001b[1;33m\u001b[0m\u001b[1;33m\u001b[0m\u001b[0m\n\u001b[0m",
      "\u001b[1;31mTypeError\u001b[0m: unhashable type: 'set'"
     ]
    }
   ],
   "source": [
    "my_set = {1,2, {3,5}}"
   ]
  },
  {
   "cell_type": "code",
   "execution_count": 63,
   "metadata": {
    "id": "6Av1DFXg76ii"
   },
   "outputs": [
    {
     "data": {
      "text/plain": [
       "{(2, 3), 1, 2}"
      ]
     },
     "execution_count": 63,
     "metadata": {},
     "output_type": "execute_result"
    }
   ],
   "source": [
    "my_set"
   ]
  },
  {
   "cell_type": "markdown",
   "metadata": {
    "id": "McnlvCvFx2x4"
   },
   "source": [
    "### <code>add()</code>\n",
    "\n",
    "\n",
    "*  <code>add()</code> method adds an element to a set\n",
    "\n",
    "\n",
    "* This method takes the element to be added as an argument"
   ]
  },
  {
   "cell_type": "code",
   "execution_count": 64,
   "metadata": {
    "id": "gKrGTWaQx2x4"
   },
   "outputs": [],
   "source": [
    "# We add to sets with the add() method\n",
    "my_set = set()\n",
    "my_set.add('a')"
   ]
  },
  {
   "cell_type": "code",
   "execution_count": 65,
   "metadata": {
    "colab": {
     "base_uri": "https://localhost:8080/"
    },
    "id": "COEtoXrZx2x5",
    "outputId": "07b1cdba-cca1-418b-9adc-582f7eeb0f93"
   },
   "outputs": [
    {
     "data": {
      "text/plain": [
       "{'a'}"
      ]
     },
     "execution_count": 65,
     "metadata": {},
     "output_type": "execute_result"
    }
   ],
   "source": [
    "#Show\n",
    "my_set"
   ]
  },
  {
   "cell_type": "code",
   "execution_count": 66,
   "metadata": {
    "id": "YTh2v7mSx2x8"
   },
   "outputs": [],
   "source": [
    "# Add a different element\n",
    "my_set.add(2)"
   ]
  },
  {
   "cell_type": "code",
   "execution_count": 67,
   "metadata": {
    "colab": {
     "base_uri": "https://localhost:8080/"
    },
    "id": "AsGC5v5Hx2x-",
    "outputId": "86d09796-285b-4145-b834-549e7627c505"
   },
   "outputs": [
    {
     "name": "stdout",
     "output_type": "stream",
     "text": [
      "{2, 'a'}\n"
     ]
    }
   ],
   "source": [
    "#Show\n",
    "print(my_set)"
   ]
  },
  {
   "cell_type": "code",
   "execution_count": 68,
   "metadata": {
    "id": "t37-ERnhx2yA"
   },
   "outputs": [
    {
     "ename": "NameError",
     "evalue": "name 'x' is not defined",
     "output_type": "error",
     "traceback": [
      "\u001b[1;31m---------------------------------------------------------------------------\u001b[0m",
      "\u001b[1;31mNameError\u001b[0m                                 Traceback (most recent call last)",
      "\u001b[1;32m~\\AppData\\Local\\Temp\\ipykernel_71416\\2398994194.py\u001b[0m in \u001b[0;36m<module>\u001b[1;34m\u001b[0m\n\u001b[0;32m      1\u001b[0m \u001b[1;31m# Lets add another element 1\u001b[0m\u001b[1;33m\u001b[0m\u001b[1;33m\u001b[0m\u001b[0m\n\u001b[1;32m----> 2\u001b[1;33m \u001b[0mx\u001b[0m\u001b[1;33m.\u001b[0m\u001b[0madd\u001b[0m\u001b[1;33m(\u001b[0m\u001b[1;36m1\u001b[0m\u001b[1;33m)\u001b[0m\u001b[1;33m\u001b[0m\u001b[1;33m\u001b[0m\u001b[0m\n\u001b[0m",
      "\u001b[1;31mNameError\u001b[0m: name 'x' is not defined"
     ]
    }
   ],
   "source": [
    "# Lets add another element 1\n",
    "x.add(1)"
   ]
  },
  {
   "cell_type": "code",
   "execution_count": 69,
   "metadata": {
    "id": "aM6UGArnx2yC",
    "outputId": "54041383-7b25-44a6-90c9-2005bd97c96e"
   },
   "outputs": [
    {
     "ename": "NameError",
     "evalue": "name 'x' is not defined",
     "output_type": "error",
     "traceback": [
      "\u001b[1;31m---------------------------------------------------------------------------\u001b[0m",
      "\u001b[1;31mNameError\u001b[0m                                 Traceback (most recent call last)",
      "\u001b[1;32m~\\AppData\\Local\\Temp\\ipykernel_71416\\3834138772.py\u001b[0m in \u001b[0;36m<module>\u001b[1;34m\u001b[0m\n\u001b[0;32m      1\u001b[0m \u001b[1;31m#Show\u001b[0m\u001b[1;33m\u001b[0m\u001b[1;33m\u001b[0m\u001b[0m\n\u001b[1;32m----> 2\u001b[1;33m \u001b[0mx\u001b[0m\u001b[1;33m\u001b[0m\u001b[1;33m\u001b[0m\u001b[0m\n\u001b[0m",
      "\u001b[1;31mNameError\u001b[0m: name 'x' is not defined"
     ]
    }
   ],
   "source": [
    "#Show\n",
    "x"
   ]
  },
  {
   "cell_type": "code",
   "execution_count": 70,
   "metadata": {
    "id": "qN4guFeox2yH"
   },
   "outputs": [
    {
     "ename": "NameError",
     "evalue": "name 'x' is not defined",
     "output_type": "error",
     "traceback": [
      "\u001b[1;31m---------------------------------------------------------------------------\u001b[0m",
      "\u001b[1;31mNameError\u001b[0m                                 Traceback (most recent call last)",
      "\u001b[1;32m~\\AppData\\Local\\Temp\\ipykernel_71416\\3624980922.py\u001b[0m in \u001b[0;36m<module>\u001b[1;34m\u001b[0m\n\u001b[0;32m      1\u001b[0m \u001b[1;31m# Try to add the same element 1 again\u001b[0m\u001b[1;33m\u001b[0m\u001b[1;33m\u001b[0m\u001b[0m\n\u001b[1;32m----> 2\u001b[1;33m \u001b[0mx\u001b[0m\u001b[1;33m.\u001b[0m\u001b[0madd\u001b[0m\u001b[1;33m(\u001b[0m\u001b[1;36m1\u001b[0m\u001b[1;33m)\u001b[0m\u001b[1;33m\u001b[0m\u001b[1;33m\u001b[0m\u001b[0m\n\u001b[0m",
      "\u001b[1;31mNameError\u001b[0m: name 'x' is not defined"
     ]
    }
   ],
   "source": [
    "# Try to add the same element 1 again\n",
    "x.add(1)"
   ]
  },
  {
   "cell_type": "code",
   "execution_count": 71,
   "metadata": {
    "id": "AGlDN8Iyx2yK",
    "outputId": "6fc34d83-960e-466f-8d99-b2bfa3620489"
   },
   "outputs": [
    {
     "ename": "NameError",
     "evalue": "name 'x' is not defined",
     "output_type": "error",
     "traceback": [
      "\u001b[1;31m---------------------------------------------------------------------------\u001b[0m",
      "\u001b[1;31mNameError\u001b[0m                                 Traceback (most recent call last)",
      "\u001b[1;32m~\\AppData\\Local\\Temp\\ipykernel_71416\\32546335.py\u001b[0m in \u001b[0;36m<module>\u001b[1;34m\u001b[0m\n\u001b[1;32m----> 1\u001b[1;33m \u001b[0mx\u001b[0m\u001b[1;33m\u001b[0m\u001b[1;33m\u001b[0m\u001b[0m\n\u001b[0m",
      "\u001b[1;31mNameError\u001b[0m: name 'x' is not defined"
     ]
    }
   ],
   "source": [
    "x"
   ]
  },
  {
   "cell_type": "markdown",
   "metadata": {
    "id": "i2PhWKETx2yN"
   },
   "source": [
    "* Notice how it won't place another 1 there. That's because a set is only concerned with unique elements!"
   ]
  },
  {
   "cell_type": "markdown",
   "metadata": {
    "id": "Y579P1fwx2yN"
   },
   "source": [
    "### <code>update()</code>\n",
    "\n",
    "* <code>update()</code> method helps to add multiple elements to a set"
   ]
  },
  {
   "cell_type": "code",
   "execution_count": 72,
   "metadata": {
    "id": "-G2U0D2cx2yO"
   },
   "outputs": [],
   "source": [
    "my_set = {5,7,9,3}"
   ]
  },
  {
   "cell_type": "code",
   "execution_count": 73,
   "metadata": {
    "colab": {
     "base_uri": "https://localhost:8080/"
    },
    "id": "jNAbIqwUx2yR",
    "outputId": "051642a2-3b16-4dfd-b10f-10ba7b13a6ed"
   },
   "outputs": [
    {
     "name": "stdout",
     "output_type": "stream",
     "text": [
      "{2, 3, 4, 5, 7, 9}\n"
     ]
    }
   ],
   "source": [
    "# add multiple elements\n",
    "my_set.update([2, 3, 4])\n",
    "print(my_set)"
   ]
  },
  {
   "cell_type": "markdown",
   "metadata": {
    "id": "Ehae_5psx2yT"
   },
   "source": [
    "### <code>remove()</code>\n",
    "\n",
    "* Use <code>remove()</code> to remove an item/element from the set.\n",
    "\n",
    "\n",
    "* By default <code>remove()</code> removes the specified element from the set.\n",
    "\n",
    "\n",
    "* <code>remove()</code> takes the element as an argument."
   ]
  },
  {
   "cell_type": "code",
   "execution_count": 74,
   "metadata": {
    "id": "yRW6CHCix2yU"
   },
   "outputs": [],
   "source": [
    "non_empty_set = {1,5,6,73,2}"
   ]
  },
  {
   "cell_type": "code",
   "execution_count": 75,
   "metadata": {
    "id": "UlzYv0oqx2yb"
   },
   "outputs": [],
   "source": [
    "non_empty_set.remove(5)"
   ]
  },
  {
   "cell_type": "code",
   "execution_count": 76,
   "metadata": {
    "colab": {
     "base_uri": "https://localhost:8080/"
    },
    "id": "2ZdpesQJx2yd",
    "outputId": "919bc775-a4c9-4096-9ba8-85d28a02f675"
   },
   "outputs": [
    {
     "data": {
      "text/plain": [
       "{1, 2, 6, 73}"
      ]
     },
     "execution_count": 76,
     "metadata": {},
     "output_type": "execute_result"
    }
   ],
   "source": [
    "non_empty_set"
   ]
  },
  {
   "cell_type": "code",
   "execution_count": 77,
   "metadata": {
    "colab": {
     "base_uri": "https://localhost:8080/",
     "height": 166
    },
    "id": "JfaKZ5uex2ye",
    "outputId": "c19cddf8-e68b-4ba6-d4cc-075f298f1941"
   },
   "outputs": [
    {
     "ename": "KeyError",
     "evalue": "45",
     "output_type": "error",
     "traceback": [
      "\u001b[1;31m---------------------------------------------------------------------------\u001b[0m",
      "\u001b[1;31mKeyError\u001b[0m                                  Traceback (most recent call last)",
      "\u001b[1;32m~\\AppData\\Local\\Temp\\ipykernel_71416\\261421333.py\u001b[0m in \u001b[0;36m<module>\u001b[1;34m\u001b[0m\n\u001b[1;32m----> 1\u001b[1;33m \u001b[0mnon_empty_set\u001b[0m\u001b[1;33m.\u001b[0m\u001b[0mremove\u001b[0m\u001b[1;33m(\u001b[0m\u001b[1;36m45\u001b[0m\u001b[1;33m)\u001b[0m\u001b[1;33m\u001b[0m\u001b[1;33m\u001b[0m\u001b[0m\n\u001b[0m",
      "\u001b[1;31mKeyError\u001b[0m: 45"
     ]
    }
   ],
   "source": [
    "non_empty_set.remove(45)"
   ]
  },
  {
   "cell_type": "markdown",
   "metadata": {
    "id": "4WyPacOmx2yg"
   },
   "source": [
    "* <code>remove()</code> throws an error when we try to remove an element which is not present in the set"
   ]
  },
  {
   "cell_type": "markdown",
   "metadata": {
    "id": "J78K33lKx2yh"
   },
   "source": [
    "### <code>union()</code>\n",
    "\n",
    "\n",
    "* <code>union()</code> method returns the union of two sets\n",
    "\n",
    "\n",
    "* Also denoted by the operator <code>|</code>"
   ]
  },
  {
   "cell_type": "code",
   "execution_count": 78,
   "metadata": {
    "id": "5PsHlxXvx2yh"
   },
   "outputs": [],
   "source": [
    "# Initialize sets A and B\n",
    "A = {1, 2, 3, 4, 5}\n",
    "B = {4, 5, 6, 7, 8}"
   ]
  },
  {
   "cell_type": "code",
   "execution_count": 79,
   "metadata": {
    "colab": {
     "base_uri": "https://localhost:8080/"
    },
    "id": "xb3dKUDdx2yi",
    "outputId": "c92e9fb1-dd58-46d1-c79e-51ba6ee91413"
   },
   "outputs": [
    {
     "data": {
      "text/plain": [
       "{1, 2, 3, 4, 5, 6, 7, 8}"
      ]
     },
     "execution_count": 79,
     "metadata": {},
     "output_type": "execute_result"
    }
   ],
   "source": [
    "A.union(B)"
   ]
  },
  {
   "cell_type": "code",
   "execution_count": 80,
   "metadata": {
    "colab": {
     "base_uri": "https://localhost:8080/"
    },
    "id": "LEnTk73BlUvM",
    "outputId": "bbaaeb98-59a0-40a2-ba39-8c0ce817238d"
   },
   "outputs": [
    {
     "data": {
      "text/plain": [
       "{1, 2, 3, 4, 5}"
      ]
     },
     "execution_count": 80,
     "metadata": {},
     "output_type": "execute_result"
    }
   ],
   "source": [
    "A"
   ]
  },
  {
   "cell_type": "code",
   "execution_count": 81,
   "metadata": {
    "colab": {
     "base_uri": "https://localhost:8080/"
    },
    "id": "5eiCPbm3x2yk",
    "outputId": "5774a032-5b25-4886-a504-67f1b6412ba1"
   },
   "outputs": [
    {
     "data": {
      "text/plain": [
       "{1, 2, 3, 4, 5, 6, 7, 8}"
      ]
     },
     "execution_count": 81,
     "metadata": {},
     "output_type": "execute_result"
    }
   ],
   "source": [
    "# Also denoted by the operator |\n",
    "A | B"
   ]
  },
  {
   "cell_type": "markdown",
   "metadata": {
    "id": "-imPGLIHx2ym"
   },
   "source": [
    "### <code>intersection()</code>\n",
    "\n",
    "\n",
    "* <code>intersection()</code> method returns the intersection of two sets\n",
    "\n",
    "\n",
    "* Also denoted by the operator <code>&</code>"
   ]
  },
  {
   "cell_type": "code",
   "execution_count": 82,
   "metadata": {
    "id": "CEiWFkplx2ym"
   },
   "outputs": [],
   "source": [
    "A = {1, 2, 3, 4, 5}\n",
    "B = {4, 5, 6, 7, 8}"
   ]
  },
  {
   "cell_type": "code",
   "execution_count": 83,
   "metadata": {
    "colab": {
     "base_uri": "https://localhost:8080/"
    },
    "id": "1ycxjihUx2yn",
    "outputId": "e3a9657a-5ea8-42f6-bc7f-c34ebed9b4c0"
   },
   "outputs": [
    {
     "data": {
      "text/plain": [
       "{4, 5}"
      ]
     },
     "execution_count": 83,
     "metadata": {},
     "output_type": "execute_result"
    }
   ],
   "source": [
    "A.intersection(B)"
   ]
  },
  {
   "cell_type": "code",
   "execution_count": 84,
   "metadata": {
    "colab": {
     "base_uri": "https://localhost:8080/"
    },
    "id": "GalM9H1ax2yp",
    "outputId": "d6813969-4e66-4482-efd5-fdfb02a128de"
   },
   "outputs": [
    {
     "data": {
      "text/plain": [
       "{4, 5}"
      ]
     },
     "execution_count": 84,
     "metadata": {},
     "output_type": "execute_result"
    }
   ],
   "source": [
    "# Also denoted by the operator &\n",
    "A & B"
   ]
  },
  {
   "cell_type": "markdown",
   "metadata": {
    "id": "nJm-OfZDx2yq"
   },
   "source": [
    "### <code>difference()</code>\n",
    "\n",
    "\n",
    "* <code>difference()</code> method returns the difference of two sets\n",
    "\n",
    "\n",
    "* Difference of the set <code>B</code> from set <code>A</code> i.e, <code>(A - B)</code> is a set of elements that are only in <code>A</code> but not in <code>B</code>\n",
    "\n",
    "\n",
    "* Also denoted by the operator <code>-</code>"
   ]
  },
  {
   "cell_type": "code",
   "execution_count": 85,
   "metadata": {
    "id": "bggwzeTCx2yq"
   },
   "outputs": [],
   "source": [
    "A = {1, 2, 3, 4, 5}\n",
    "B = {4, 5, 6, 7, 8}"
   ]
  },
  {
   "cell_type": "code",
   "execution_count": 86,
   "metadata": {
    "colab": {
     "base_uri": "https://localhost:8080/"
    },
    "id": "wj1pQh3Ex2ys",
    "outputId": "0dffad23-0291-4040-92e6-7b8d9d6235eb"
   },
   "outputs": [
    {
     "data": {
      "text/plain": [
       "{1, 2, 3}"
      ]
     },
     "execution_count": 86,
     "metadata": {},
     "output_type": "execute_result"
    }
   ],
   "source": [
    "A.difference(B)"
   ]
  },
  {
   "cell_type": "code",
   "execution_count": 87,
   "metadata": {
    "colab": {
     "base_uri": "https://localhost:8080/"
    },
    "id": "0DgHo42ax2yv",
    "outputId": "5b1bff82-84a4-4c8f-e14a-1170b9eac11b"
   },
   "outputs": [
    {
     "data": {
      "text/plain": [
       "{1, 2, 3}"
      ]
     },
     "execution_count": 87,
     "metadata": {},
     "output_type": "execute_result"
    }
   ],
   "source": [
    "# Also denoted by the operator -\n",
    "A - B"
   ]
  },
  {
   "cell_type": "code",
   "execution_count": 88,
   "metadata": {
    "colab": {
     "base_uri": "https://localhost:8080/"
    },
    "id": "6252HLbjx2yw",
    "outputId": "f126d86d-a2b8-4e40-d5b6-e522c04012b7"
   },
   "outputs": [
    {
     "data": {
      "text/plain": [
       "{6, 7, 8}"
      ]
     },
     "execution_count": 88,
     "metadata": {},
     "output_type": "execute_result"
    }
   ],
   "source": [
    "B.difference(A)"
   ]
  },
  {
   "cell_type": "code",
   "execution_count": 89,
   "metadata": {
    "colab": {
     "base_uri": "https://localhost:8080/",
     "height": 34
    },
    "id": "UXeArQih9-KX",
    "outputId": "acc6f5bd-9467-485b-aa63-180b0ee0bf3b"
   },
   "outputs": [
    {
     "data": {
      "text/plain": [
       "{6, 7, 8}"
      ]
     },
     "execution_count": 89,
     "metadata": {},
     "output_type": "execute_result"
    }
   ],
   "source": [
    "B - A"
   ]
  },
  {
   "cell_type": "markdown",
   "metadata": {
    "id": "syQXm4jBx2yx"
   },
   "source": [
    "### <code>symmetric_difference()</code>\n",
    "\n",
    "\n",
    "* <code>symmetric_difference()</code> method returns the set of elements in A and B but not in both (excluding the intersection)\n",
    "\n",
    "\n",
    "* Also denoted by the operator <code>^</code>"
   ]
  },
  {
   "cell_type": "code",
   "execution_count": 90,
   "metadata": {
    "id": "EVPLdfe6x2yx"
   },
   "outputs": [],
   "source": [
    "A = {1, 2, 3, 4, 5}\n",
    "B = {4, 5, 6, 7, 8}"
   ]
  },
  {
   "cell_type": "code",
   "execution_count": 91,
   "metadata": {
    "colab": {
     "base_uri": "https://localhost:8080/"
    },
    "id": "FLdL9n9nx2yz",
    "outputId": "e652c8dd-7fb6-47e2-c016-fbd89191b8df"
   },
   "outputs": [
    {
     "data": {
      "text/plain": [
       "{1, 2, 3, 6, 7, 8}"
      ]
     },
     "execution_count": 91,
     "metadata": {},
     "output_type": "execute_result"
    }
   ],
   "source": [
    "A.symmetric_difference(B)"
   ]
  },
  {
   "cell_type": "code",
   "execution_count": 92,
   "metadata": {
    "colab": {
     "base_uri": "https://localhost:8080/"
    },
    "id": "yetEV2k1x2y1",
    "outputId": "e173d25a-d88a-4194-d9bd-6c7414570ba4"
   },
   "outputs": [
    {
     "data": {
      "text/plain": [
       "{1, 2, 3, 6, 7, 8}"
      ]
     },
     "execution_count": 92,
     "metadata": {},
     "output_type": "execute_result"
    }
   ],
   "source": [
    "A^B"
   ]
  },
  {
   "cell_type": "markdown",
   "metadata": {
    "id": "wLDBvDUix2y3"
   },
   "source": [
    "# Dictionaries\n",
    "\n",
    "* We've been learning about *sequences* in Python but now we're going to switch gears and learn about *mappings* in Python.\n",
    "\n",
    "\n",
    "* If you're familiar with other languages you can think of these Dictionaries as hash tables.\n",
    "\n",
    "\n",
    "* So what are mappings? Mappings are a collection of objects that are stored by a *key*, unlike a sequence that stored objects by their relative position. This is an important distinction, since mappings won't retain order since they have objects defined by a key.\n",
    "\n",
    "\n",
    "* A Python dictionary consists of a key and then an associated value. That value can be almost any Python object. So a dictionary object always has elements as key-value pairs\n",
    "\n",
    "\n",
    "## Constructing a Dictionary\n",
    "\n",
    "\n",
    "* A dictionary object is constructed using curly braces <code>{key1:value1,key2:value2,key3:value3}</code>"
   ]
  },
  {
   "cell_type": "code",
   "execution_count": 93,
   "metadata": {
    "id": "IPVt8pQ1x2y4"
   },
   "outputs": [],
   "source": [
    "# Make a dictionary with {} and : to signify a key and a value\n",
    "marvel_dict = {'Name':'Thor','Place':'Asgard','Weapon' : 'Hammer', 1:2, 3 : 'power', 'alibies' : ['Ironman','Captain America'], 'abc' : {1:2, 4:5}}"
   ]
  },
  {
   "cell_type": "code",
   "execution_count": 94,
   "metadata": {
    "colab": {
     "base_uri": "https://localhost:8080/",
     "height": 34
    },
    "id": "zUigu-Eox2y5",
    "outputId": "b2dde2e8-84f8-47a3-8bcb-428137d122c4"
   },
   "outputs": [
    {
     "data": {
      "text/plain": [
       "'Asgard'"
      ]
     },
     "execution_count": 94,
     "metadata": {},
     "output_type": "execute_result"
    }
   ],
   "source": [
    "# Call values by their key\n",
    "marvel_dict['Place']"
   ]
  },
  {
   "cell_type": "code",
   "execution_count": 95,
   "metadata": {
    "colab": {
     "base_uri": "https://localhost:8080/"
    },
    "id": "bQT7_8HqpdmX",
    "outputId": "9f0a793e-98c9-477c-8111-c7a0c47b127d"
   },
   "outputs": [
    {
     "data": {
      "text/plain": [
       "dict"
      ]
     },
     "execution_count": 95,
     "metadata": {},
     "output_type": "execute_result"
    }
   ],
   "source": [
    "type(marvel_dict)"
   ]
  },
  {
   "cell_type": "code",
   "execution_count": 96,
   "metadata": {
    "colab": {
     "base_uri": "https://localhost:8080/",
     "height": 34
    },
    "id": "JakXpRcqx2y7",
    "outputId": "6a3fca31-74c2-411e-88d2-12ded16c8d69"
   },
   "outputs": [
    {
     "data": {
      "text/plain": [
       "'Thor'"
      ]
     },
     "execution_count": 96,
     "metadata": {},
     "output_type": "execute_result"
    }
   ],
   "source": [
    "marvel_dict['Name']"
   ]
  },
  {
   "cell_type": "code",
   "execution_count": 97,
   "metadata": {
    "colab": {
     "base_uri": "https://localhost:8080/",
     "height": 166
    },
    "id": "3VuNvGrQsC1o",
    "outputId": "dece9f36-1357-4d36-f0e5-15be6a904db9"
   },
   "outputs": [
    {
     "ename": "KeyError",
     "evalue": "'Random'",
     "output_type": "error",
     "traceback": [
      "\u001b[1;31m---------------------------------------------------------------------------\u001b[0m",
      "\u001b[1;31mKeyError\u001b[0m                                  Traceback (most recent call last)",
      "\u001b[1;32m~\\AppData\\Local\\Temp\\ipykernel_71416\\1926514787.py\u001b[0m in \u001b[0;36m<module>\u001b[1;34m\u001b[0m\n\u001b[1;32m----> 1\u001b[1;33m \u001b[0mmarvel_dict\u001b[0m\u001b[1;33m[\u001b[0m\u001b[1;34m'Random'\u001b[0m\u001b[1;33m]\u001b[0m\u001b[1;33m\u001b[0m\u001b[1;33m\u001b[0m\u001b[0m\n\u001b[0m",
      "\u001b[1;31mKeyError\u001b[0m: 'Random'"
     ]
    }
   ],
   "source": [
    "marvel_dict['Random']"
   ]
  },
  {
   "cell_type": "code",
   "execution_count": 98,
   "metadata": {
    "colab": {
     "base_uri": "https://localhost:8080/",
     "height": 35
    },
    "id": "NZwP-63z_k3c",
    "outputId": "6131cc0a-c4d3-492c-fd02-ff512f603b71"
   },
   "outputs": [
    {
     "data": {
      "text/plain": [
       "'Hammer'"
      ]
     },
     "execution_count": 98,
     "metadata": {},
     "output_type": "execute_result"
    }
   ],
   "source": [
    "marvel_dict['Weapon']"
   ]
  },
  {
   "cell_type": "code",
   "execution_count": 99,
   "metadata": {
    "colab": {
     "base_uri": "https://localhost:8080/"
    },
    "id": "lRWRAg0U_0tM",
    "outputId": "63d21e84-2ebd-4fa2-8773-dcc306057934"
   },
   "outputs": [
    {
     "data": {
      "text/plain": [
       "['Ironman', 'Captain America']"
      ]
     },
     "execution_count": 99,
     "metadata": {},
     "output_type": "execute_result"
    }
   ],
   "source": [
    "marvel_dict['alibies']"
   ]
  },
  {
   "cell_type": "code",
   "execution_count": 100,
   "metadata": {
    "colab": {
     "base_uri": "https://localhost:8080/",
     "height": 34
    },
    "id": "e7fpRgtMAaSZ",
    "outputId": "e8f5888d-d7bc-439c-bbd9-3384f9136616"
   },
   "outputs": [
    {
     "data": {
      "text/plain": [
       "dict"
      ]
     },
     "execution_count": 100,
     "metadata": {},
     "output_type": "execute_result"
    }
   ],
   "source": [
    "type(marvel_dict['abc'])"
   ]
  },
  {
   "cell_type": "markdown",
   "metadata": {
    "id": "J44Z9VfMx2y9"
   },
   "source": [
    "## Dictionary Methods"
   ]
  },
  {
   "cell_type": "markdown",
   "metadata": {
    "id": "uL7e7NDox2y9"
   },
   "source": [
    "### <code>keys()</code>\n",
    "\n",
    "\n",
    "* <code>keys()</code> method returns the list of keys in the dictionary object"
   ]
  },
  {
   "cell_type": "code",
   "execution_count": 101,
   "metadata": {
    "colab": {
     "base_uri": "https://localhost:8080/"
    },
    "id": "d-MXIbRwqcS1",
    "outputId": "c3e05c12-c270-4768-ac60-b5857894cc50"
   },
   "outputs": [
    {
     "data": {
      "text/plain": [
       "dict_keys(['Name', 'Place', 'Weapon', 1, 3, 'alibies', 'abc'])"
      ]
     },
     "execution_count": 101,
     "metadata": {},
     "output_type": "execute_result"
    }
   ],
   "source": [
    "marvel_dict.keys()"
   ]
  },
  {
   "cell_type": "code",
   "execution_count": 102,
   "metadata": {
    "colab": {
     "base_uri": "https://localhost:8080/"
    },
    "id": "mRev-noZx2y9",
    "outputId": "22b91dbd-02b0-4958-ae9a-c34ca709a143"
   },
   "outputs": [
    {
     "data": {
      "text/plain": [
       "['Name', 'Place', 'Weapon', 1, 3, 'alibies', 'abc']"
      ]
     },
     "execution_count": 102,
     "metadata": {},
     "output_type": "execute_result"
    }
   ],
   "source": [
    "list(marvel_dict.keys())"
   ]
  },
  {
   "cell_type": "markdown",
   "metadata": {
    "id": "tUaGyAtdx2y_"
   },
   "source": [
    "### <code>values()</code>\n",
    "\n",
    "* <code>values()</code> method returns the list of values in the dictionary object"
   ]
  },
  {
   "cell_type": "code",
   "execution_count": 103,
   "metadata": {
    "colab": {
     "base_uri": "https://localhost:8080/"
    },
    "id": "phxxN3b2BI21",
    "outputId": "58d4d513-196c-4d97-949b-6fb14a2eea64"
   },
   "outputs": [
    {
     "name": "stdout",
     "output_type": "stream",
     "text": [
      "{'Name': 'Thor', 'Place': 'Asgard', 'Weapon': 'Hammer', 1: 2, 3: 'power', 'alibies': ['Ironman', 'Captain America'], 'abc': {1: 2, 4: 5}}\n"
     ]
    }
   ],
   "source": [
    "print(marvel_dict)"
   ]
  },
  {
   "cell_type": "code",
   "execution_count": 104,
   "metadata": {
    "colab": {
     "base_uri": "https://localhost:8080/"
    },
    "id": "18imvm1tx2zA",
    "outputId": "58de8eeb-4610-4bda-86e8-77999a4749e3"
   },
   "outputs": [
    {
     "data": {
      "text/plain": [
       "['Thor',\n",
       " 'Asgard',\n",
       " 'Hammer',\n",
       " 2,\n",
       " 'power',\n",
       " ['Ironman', 'Captain America'],\n",
       " {1: 2, 4: 5}]"
      ]
     },
     "execution_count": 104,
     "metadata": {},
     "output_type": "execute_result"
    }
   ],
   "source": [
    "list(marvel_dict.values())"
   ]
  },
  {
   "cell_type": "markdown",
   "metadata": {
    "id": "_nSqsOiax2zB"
   },
   "source": [
    "### <code>items()</code>\n",
    "\n",
    "\n",
    "* <code>items()</code> method returns the list of the keys and values"
   ]
  },
  {
   "cell_type": "code",
   "execution_count": 105,
   "metadata": {
    "colab": {
     "base_uri": "https://localhost:8080/"
    },
    "id": "JHqnsUctx2zB",
    "outputId": "96aebaa6-aa39-4937-9169-d74aa7677f05"
   },
   "outputs": [
    {
     "data": {
      "text/plain": [
       "[('Name', 'Thor'),\n",
       " ('Place', 'Asgard'),\n",
       " ('Weapon', 'Hammer'),\n",
       " (1, 2),\n",
       " (3, 'power'),\n",
       " ('alibies', ['Ironman', 'Captain America']),\n",
       " ('abc', {1: 2, 4: 5})]"
      ]
     },
     "execution_count": 105,
     "metadata": {},
     "output_type": "execute_result"
    }
   ],
   "source": [
    "# Get the keys and their corresponding values\n",
    "list(marvel_dict.items())"
   ]
  },
  {
   "cell_type": "markdown",
   "metadata": {
    "id": "rOJcYnxYx2zE"
   },
   "source": [
    "* We can also use the <code>get()</code> method to extract a particular value of key-value pair.\n"
   ]
  },
  {
   "cell_type": "code",
   "execution_count": 106,
   "metadata": {
    "colab": {
     "base_uri": "https://localhost:8080/",
     "height": 35
    },
    "id": "VH3-a6Ykx2zE",
    "outputId": "75d17dce-aff7-42d1-a8cf-b68a7f456357"
   },
   "outputs": [
    {
     "data": {
      "text/plain": [
       "'Asgard'"
      ]
     },
     "execution_count": 106,
     "metadata": {},
     "output_type": "execute_result"
    }
   ],
   "source": [
    "marvel_dict.get('Place')"
   ]
  },
  {
   "cell_type": "markdown",
   "metadata": {
    "id": "WsRmOWzVx2zG"
   },
   "source": [
    "### <code>get()</code>\n",
    "\n",
    "* <code>get()</code> method takes the key as an argument and returns None if the key is not found in the dictionary.\n",
    "\n",
    "\n",
    "* We can also set the value to return if a key is not found. This will be passed as the second argument in <code>get()</code>"
   ]
  },
  {
   "cell_type": "code",
   "execution_count": 107,
   "metadata": {
    "colab": {
     "base_uri": "https://localhost:8080/",
     "height": 34
    },
    "id": "hHnXdwNNx2zG",
    "outputId": "1847f09a-7ca5-42cb-c4ee-129c3c5f0245"
   },
   "outputs": [
    {
     "data": {
      "text/plain": [
       "'Asgard'"
      ]
     },
     "execution_count": 107,
     "metadata": {},
     "output_type": "execute_result"
    }
   ],
   "source": [
    "marvel_dict.get('Place')"
   ]
  },
  {
   "cell_type": "code",
   "execution_count": 108,
   "metadata": {
    "id": "rAS9es6osPNX"
   },
   "outputs": [],
   "source": [
    "marvel_dict.get('Random')"
   ]
  },
  {
   "cell_type": "code",
   "execution_count": null,
   "metadata": {
    "id": "ociIf394sPLE"
   },
   "outputs": [],
   "source": []
  },
  {
   "cell_type": "code",
   "execution_count": 109,
   "metadata": {
    "colab": {
     "base_uri": "https://localhost:8080/",
     "height": 34
    },
    "id": "-wqYpb0Ox2zI",
    "outputId": "9c85d11d-5324-448e-f3df-3ca70e1b62af"
   },
   "outputs": [
    {
     "data": {
      "text/plain": [
       "'Not Found'"
      ]
     },
     "execution_count": 109,
     "metadata": {},
     "output_type": "execute_result"
    }
   ],
   "source": [
    "marvel_dict.get('Random','Not Found')"
   ]
  },
  {
   "cell_type": "code",
   "execution_count": 110,
   "metadata": {
    "colab": {
     "base_uri": "https://localhost:8080/",
     "height": 166
    },
    "id": "365bYlMJx2zJ",
    "outputId": "539dedbe-6661-4f94-a641-b460549cfc59"
   },
   "outputs": [
    {
     "ename": "KeyError",
     "evalue": "'friend'",
     "output_type": "error",
     "traceback": [
      "\u001b[1;31m---------------------------------------------------------------------------\u001b[0m",
      "\u001b[1;31mKeyError\u001b[0m                                  Traceback (most recent call last)",
      "\u001b[1;32m~\\AppData\\Local\\Temp\\ipykernel_71416\\3625405352.py\u001b[0m in \u001b[0;36m<module>\u001b[1;34m\u001b[0m\n\u001b[1;32m----> 1\u001b[1;33m \u001b[0mmarvel_dict\u001b[0m\u001b[1;33m[\u001b[0m\u001b[1;34m'friend'\u001b[0m\u001b[1;33m]\u001b[0m\u001b[1;33m\u001b[0m\u001b[1;33m\u001b[0m\u001b[0m\n\u001b[0m",
      "\u001b[1;31mKeyError\u001b[0m: 'friend'"
     ]
    }
   ],
   "source": [
    "marvel_dict['friend']"
   ]
  },
  {
   "cell_type": "markdown",
   "metadata": {
    "id": "zcMn2Wd-x2zL"
   },
   "source": [
    "Its important to note that dictionaries are very flexible in the data types they can hold. For example:"
   ]
  },
  {
   "cell_type": "code",
   "execution_count": 111,
   "metadata": {
    "id": "jtF14Xqxx2zL"
   },
   "outputs": [],
   "source": [
    "employee_dict = {'Name':'Sanket','Skills':['Python','Machine Learning','Deep Learning'],'Band':6.0,'Promotion Year':[2016,2018,2020]}"
   ]
  },
  {
   "cell_type": "code",
   "execution_count": 112,
   "metadata": {
    "colab": {
     "base_uri": "https://localhost:8080/"
    },
    "id": "TBmOrJKlCx4A",
    "outputId": "9c7e9cd5-2d16-4200-858a-b0cca7edaeca"
   },
   "outputs": [
    {
     "data": {
      "text/plain": [
       "4"
      ]
     },
     "execution_count": 112,
     "metadata": {},
     "output_type": "execute_result"
    }
   ],
   "source": [
    "len(employee_dict.keys())"
   ]
  },
  {
   "cell_type": "code",
   "execution_count": 113,
   "metadata": {
    "id": "_RpBYW0Qx2zM",
    "outputId": "3e97554a-babb-427e-fb9f-fadcf71c6469"
   },
   "outputs": [
    {
     "data": {
      "text/plain": [
       "['Python', 'Machine Learning', 'Deep Learning']"
      ]
     },
     "execution_count": 113,
     "metadata": {},
     "output_type": "execute_result"
    }
   ],
   "source": [
    "# Let's call items from the dictionary\n",
    "employee_dict['Skills']"
   ]
  },
  {
   "cell_type": "code",
   "execution_count": 114,
   "metadata": {
    "id": "u1mgrdHnx2zN",
    "outputId": "74971364-d5c9-4452-f942-f91911efe91a"
   },
   "outputs": [
    {
     "data": {
      "text/plain": [
       "'Python'"
      ]
     },
     "execution_count": 114,
     "metadata": {},
     "output_type": "execute_result"
    }
   ],
   "source": [
    "# Can call an index on that value\n",
    "employee_dict['Skills'][0]"
   ]
  },
  {
   "cell_type": "code",
   "execution_count": 115,
   "metadata": {
    "colab": {
     "base_uri": "https://localhost:8080/",
     "height": 35
    },
    "id": "YT7M9CoMx2zP",
    "outputId": "46767cff-fc35-45b6-dabe-a26a47bdb9c5"
   },
   "outputs": [
    {
     "data": {
      "text/plain": [
       "'PYTHON'"
      ]
     },
     "execution_count": 115,
     "metadata": {},
     "output_type": "execute_result"
    }
   ],
   "source": [
    "# Can then even call methods on that value\n",
    "employee_dict['Skills'][0].upper()"
   ]
  },
  {
   "cell_type": "code",
   "execution_count": 116,
   "metadata": {
    "id": "dcEo2ZqSx2zQ"
   },
   "outputs": [],
   "source": [
    "# Add a new key\n",
    "\n",
    "employee_dict['Designation'] ='Senior Data Scientist'"
   ]
  },
  {
   "cell_type": "code",
   "execution_count": 117,
   "metadata": {
    "colab": {
     "base_uri": "https://localhost:8080/",
     "height": 101
    },
    "id": "I_VxhEd_x2zR",
    "outputId": "5420111b-032b-4c61-acfa-4d0cfab6fa09"
   },
   "outputs": [
    {
     "data": {
      "text/plain": [
       "{'Name': 'Sanket',\n",
       " 'Skills': ['Python', 'Machine Learning', 'Deep Learning'],\n",
       " 'Band': 6.0,\n",
       " 'Promotion Year': [2016, 2018, 2020],\n",
       " 'Designation': 'Senior Data Scientist'}"
      ]
     },
     "execution_count": 117,
     "metadata": {},
     "output_type": "execute_result"
    }
   ],
   "source": [
    "employee_dict"
   ]
  },
  {
   "cell_type": "markdown",
   "metadata": {
    "id": "KdEUV4J3x2zT"
   },
   "source": [
    "### <code>update()</code>\n",
    "\n",
    "* You can add an element which is a key-value pair using the <code>update()</code> method\n",
    "\n",
    "* This method takes a dictionary as an argument"
   ]
  },
  {
   "cell_type": "code",
   "execution_count": 118,
   "metadata": {
    "id": "FEGkoCDBx2zT"
   },
   "outputs": [],
   "source": [
    "employee_dict.update({'Salary':'2,000,000'})"
   ]
  },
  {
   "cell_type": "code",
   "execution_count": 119,
   "metadata": {
    "colab": {
     "base_uri": "https://localhost:8080/"
    },
    "id": "MzCAighVx2zW",
    "outputId": "3d73bef8-d7a6-4676-d67b-1689eadcb0f5"
   },
   "outputs": [
    {
     "data": {
      "text/plain": [
       "{'Name': 'Sanket',\n",
       " 'Skills': ['Python', 'Machine Learning', 'Deep Learning'],\n",
       " 'Band': 6.0,\n",
       " 'Promotion Year': [2016, 2018, 2020],\n",
       " 'Designation': 'Senior Data Scientist',\n",
       " 'Salary': '2,000,000'}"
      ]
     },
     "execution_count": 119,
     "metadata": {},
     "output_type": "execute_result"
    }
   ],
   "source": [
    "employee_dict"
   ]
  },
  {
   "cell_type": "markdown",
   "metadata": {
    "id": "vUSkFO6mx2zY"
   },
   "source": [
    "* We can also use the <code>update()</code> method to update the existing values for a key"
   ]
  },
  {
   "cell_type": "code",
   "execution_count": 120,
   "metadata": {
    "id": "l1DZu6X9x2zY"
   },
   "outputs": [],
   "source": [
    "employee_dict.update({'Name' : 'Varun Saini'})"
   ]
  },
  {
   "cell_type": "code",
   "execution_count": 121,
   "metadata": {
    "colab": {
     "base_uri": "https://localhost:8080/"
    },
    "id": "XEqfvHmxx2zb",
    "outputId": "6280ec21-e106-4337-d012-269ddd767920"
   },
   "outputs": [
    {
     "data": {
      "text/plain": [
       "{'Name': 'Varun Saini',\n",
       " 'Skills': ['Python', 'Machine Learning', 'Deep Learning'],\n",
       " 'Band': 6.0,\n",
       " 'Promotion Year': [2016, 2018, 2020],\n",
       " 'Designation': 'Senior Data Scientist',\n",
       " 'Salary': '2,000,000'}"
      ]
     },
     "execution_count": 121,
     "metadata": {},
     "output_type": "execute_result"
    }
   ],
   "source": [
    "employee_dict"
   ]
  },
  {
   "cell_type": "markdown",
   "metadata": {
    "id": "xxQn8kbMx2zc"
   },
   "source": [
    "* We can affect the values of a key as well without the <code>update()</code> method"
   ]
  },
  {
   "cell_type": "code",
   "execution_count": 122,
   "metadata": {
    "colab": {
     "base_uri": "https://localhost:8080/",
     "height": 34
    },
    "id": "-mEWWbYKx2zc",
    "outputId": "4deaeea1-2ea1-41a8-d451-6fbbac254d59"
   },
   "outputs": [
    {
     "data": {
      "text/plain": [
       "'Varun Saini'"
      ]
     },
     "execution_count": 122,
     "metadata": {},
     "output_type": "execute_result"
    }
   ],
   "source": [
    "employee_dict['Name']"
   ]
  },
  {
   "cell_type": "code",
   "execution_count": 123,
   "metadata": {
    "id": "qichUeBNx2zf"
   },
   "outputs": [],
   "source": [
    "# Subtract 123 from the value\n",
    "employee_dict['Name'] = employee_dict['Name'] + ' ' + 'Raj'"
   ]
  },
  {
   "cell_type": "code",
   "execution_count": 124,
   "metadata": {
    "colab": {
     "base_uri": "https://localhost:8080/"
    },
    "id": "z9grCvhxx2zg",
    "outputId": "457cbdea-6ca6-4ecf-aafe-c2c57dbd8663"
   },
   "outputs": [
    {
     "data": {
      "text/plain": [
       "{'Name': 'Varun Saini Raj',\n",
       " 'Skills': ['Python', 'Machine Learning', 'Deep Learning'],\n",
       " 'Band': 6.0,\n",
       " 'Promotion Year': [2016, 2018, 2020],\n",
       " 'Designation': 'Senior Data Scientist',\n",
       " 'Salary': '2,000,000'}"
      ]
     },
     "execution_count": 124,
     "metadata": {},
     "output_type": "execute_result"
    }
   ],
   "source": [
    "#Check\n",
    "employee_dict"
   ]
  },
  {
   "cell_type": "markdown",
   "metadata": {
    "id": "Rnlnm59rx2zi"
   },
   "source": [
    "### <code>dict()</code>\n",
    "\n",
    "\n",
    "* We can also create dictionary objects from sequence of items which are pairs. This is done using the <code>dict()</code>method\n",
    "\n",
    "\n",
    "*  <code>dict()</code> function takes the list of paired elements as argument"
   ]
  },
  {
   "cell_type": "code",
   "execution_count": 125,
   "metadata": {
    "id": "JSOCmifNV_ht"
   },
   "outputs": [],
   "source": [
    "country_list = ['India','Australia','United States','England']\n",
    "city_list = ['New Delhi', 'Canberra' , 'Washington DC','London']"
   ]
  },
  {
   "cell_type": "code",
   "execution_count": 126,
   "metadata": {
    "id": "mviLZSi0WSuK"
   },
   "outputs": [],
   "source": [
    "country_city_list = list(zip(country_list,city_list))"
   ]
  },
  {
   "cell_type": "code",
   "execution_count": 127,
   "metadata": {
    "colab": {
     "base_uri": "https://localhost:8080/"
    },
    "id": "o_whSlhOWZgG",
    "outputId": "a9fbb0f6-8290-453c-d978-c646861d195a"
   },
   "outputs": [
    {
     "data": {
      "text/plain": [
       "[('India', 'New Delhi'),\n",
       " ('Australia', 'Canberra'),\n",
       " ('United States', 'Washington DC'),\n",
       " ('England', 'London')]"
      ]
     },
     "execution_count": 127,
     "metadata": {},
     "output_type": "execute_result"
    }
   ],
   "source": [
    "country_city_list"
   ]
  },
  {
   "cell_type": "code",
   "execution_count": 128,
   "metadata": {
    "colab": {
     "base_uri": "https://localhost:8080/"
    },
    "id": "vUdlGah7Wcu8",
    "outputId": "5b28d5ca-001e-4dbf-d8a0-487f42c8a016"
   },
   "outputs": [
    {
     "data": {
      "text/plain": [
       "{'India': 'New Delhi',\n",
       " 'Australia': 'Canberra',\n",
       " 'United States': 'Washington DC',\n",
       " 'England': 'London'}"
      ]
     },
     "execution_count": 128,
     "metadata": {},
     "output_type": "execute_result"
    }
   ],
   "source": [
    "dict(country_city_list)"
   ]
  },
  {
   "cell_type": "code",
   "execution_count": 129,
   "metadata": {
    "id": "vq5EXr2ex2zi"
   },
   "outputs": [],
   "source": [
    "# Let us create a list of paired tuples\n",
    "country_city_tuples = [('India','New Delhi'),('Australia','Canberra'),('United States','Washington DC'),('England','London')]"
   ]
  },
  {
   "cell_type": "code",
   "execution_count": 130,
   "metadata": {
    "id": "-6ObV-KFx2zj"
   },
   "outputs": [],
   "source": [
    "country_city_dict = dict(country_city_tuples)"
   ]
  },
  {
   "cell_type": "code",
   "execution_count": 131,
   "metadata": {
    "colab": {
     "base_uri": "https://localhost:8080/",
     "height": 84
    },
    "id": "CQRGpNXJx2zk",
    "outputId": "30831acd-a584-4e8d-9597-bc9f6fe609be"
   },
   "outputs": [
    {
     "data": {
      "text/plain": [
       "{'India': 'New Delhi',\n",
       " 'Australia': 'Canberra',\n",
       " 'United States': 'Washington DC',\n",
       " 'England': 'London'}"
      ]
     },
     "execution_count": 131,
     "metadata": {},
     "output_type": "execute_result"
    }
   ],
   "source": [
    "country_city_dict"
   ]
  },
  {
   "cell_type": "markdown",
   "metadata": {
    "id": "IC5NCQkmx2zl"
   },
   "source": [
    "### <code>pop()</code>\n",
    "\n",
    "\n",
    "* <code>pop()</code> method removes and returns an element from a dictionary having the given key.\n",
    "\n",
    "* This method takes two arguments/parameters (i) key - key which is to be searched for removal, (ii) default - value which is to be returned when the key is not in the dictionary"
   ]
  },
  {
   "cell_type": "code",
   "execution_count": 132,
   "metadata": {
    "colab": {
     "base_uri": "https://localhost:8080/",
     "height": 34
    },
    "id": "bGVEztzUuoNk",
    "outputId": "904259f2-cd68-4048-ad59-4d74b766b649"
   },
   "outputs": [
    {
     "data": {
      "text/plain": [
       "'London'"
      ]
     },
     "execution_count": 132,
     "metadata": {},
     "output_type": "execute_result"
    }
   ],
   "source": [
    "country_city_dict.pop('England')"
   ]
  },
  {
   "cell_type": "code",
   "execution_count": 133,
   "metadata": {
    "colab": {
     "base_uri": "https://localhost:8080/"
    },
    "id": "IPNFmS9lusRR",
    "outputId": "64230f71-0f8d-4774-e43a-bee3daca61d5"
   },
   "outputs": [
    {
     "data": {
      "text/plain": [
       "{'India': 'New Delhi',\n",
       " 'Australia': 'Canberra',\n",
       " 'United States': 'Washington DC'}"
      ]
     },
     "execution_count": 133,
     "metadata": {},
     "output_type": "execute_result"
    }
   ],
   "source": [
    "country_city_dict"
   ]
  },
  {
   "cell_type": "code",
   "execution_count": 134,
   "metadata": {
    "id": "r6NkuEnlx2zl"
   },
   "outputs": [
    {
     "ename": "KeyError",
     "evalue": "'England'",
     "output_type": "error",
     "traceback": [
      "\u001b[1;31m---------------------------------------------------------------------------\u001b[0m",
      "\u001b[1;31mKeyError\u001b[0m                                  Traceback (most recent call last)",
      "\u001b[1;32m~\\AppData\\Local\\Temp\\ipykernel_71416\\1264972658.py\u001b[0m in \u001b[0;36m<module>\u001b[1;34m\u001b[0m\n\u001b[1;32m----> 1\u001b[1;33m \u001b[0melement_to_pop\u001b[0m \u001b[1;33m=\u001b[0m \u001b[0mcountry_city_dict\u001b[0m\u001b[1;33m.\u001b[0m\u001b[0mpop\u001b[0m\u001b[1;33m(\u001b[0m\u001b[1;34m'England'\u001b[0m\u001b[1;33m)\u001b[0m\u001b[1;33m\u001b[0m\u001b[1;33m\u001b[0m\u001b[0m\n\u001b[0m",
      "\u001b[1;31mKeyError\u001b[0m: 'England'"
     ]
    }
   ],
   "source": [
    "element_to_pop = country_city_dict.pop('England')"
   ]
  },
  {
   "cell_type": "code",
   "execution_count": 135,
   "metadata": {
    "colab": {
     "base_uri": "https://localhost:8080/",
     "height": 35
    },
    "id": "9qxKp-iBx2zn",
    "outputId": "ba56f62f-d84e-49e7-eb2d-0582283bc52b"
   },
   "outputs": [
    {
     "ename": "NameError",
     "evalue": "name 'element_to_pop' is not defined",
     "output_type": "error",
     "traceback": [
      "\u001b[1;31m---------------------------------------------------------------------------\u001b[0m",
      "\u001b[1;31mNameError\u001b[0m                                 Traceback (most recent call last)",
      "\u001b[1;32m~\\AppData\\Local\\Temp\\ipykernel_71416\\4206850674.py\u001b[0m in \u001b[0;36m<module>\u001b[1;34m\u001b[0m\n\u001b[1;32m----> 1\u001b[1;33m \u001b[0melement_to_pop\u001b[0m\u001b[1;33m\u001b[0m\u001b[1;33m\u001b[0m\u001b[0m\n\u001b[0m",
      "\u001b[1;31mNameError\u001b[0m: name 'element_to_pop' is not defined"
     ]
    }
   ],
   "source": [
    "element_to_pop"
   ]
  },
  {
   "cell_type": "code",
   "execution_count": 136,
   "metadata": {
    "colab": {
     "base_uri": "https://localhost:8080/",
     "height": 67
    },
    "id": "_1kPkAHwx2zo",
    "outputId": "2b95010e-d82b-49d6-99df-3270460a19c6"
   },
   "outputs": [
    {
     "data": {
      "text/plain": [
       "{'India': 'New Delhi',\n",
       " 'Australia': 'Canberra',\n",
       " 'United States': 'Washington DC'}"
      ]
     },
     "execution_count": 136,
     "metadata": {},
     "output_type": "execute_result"
    }
   ],
   "source": [
    "country_city_dict"
   ]
  },
  {
   "cell_type": "markdown",
   "metadata": {
    "id": "M2AfPxHSx2zp"
   },
   "source": [
    "### We can use the <code>zip()</code> and <code>dict()</code> methods to create a dictionary object from two lists"
   ]
  },
  {
   "cell_type": "code",
   "execution_count": 137,
   "metadata": {
    "id": "2x3V4Ew2x2zp"
   },
   "outputs": [],
   "source": [
    "name = [\"Manjeet\", \"Nikhil\", \"Shambhavi\"]\n",
    "marks = [40, 50, 60]"
   ]
  },
  {
   "cell_type": "code",
   "execution_count": 138,
   "metadata": {
    "id": "ARSqMR2Yx2zq"
   },
   "outputs": [],
   "source": [
    "mapped = zip(name, marks)"
   ]
  },
  {
   "cell_type": "code",
   "execution_count": 139,
   "metadata": {
    "id": "j_qa801mx2zs",
    "outputId": "e11019b6-9f4e-42d0-81d0-66c90bfc92d8"
   },
   "outputs": [
    {
     "data": {
      "text/plain": [
       "<zip at 0x299e94abf40>"
      ]
     },
     "execution_count": 139,
     "metadata": {},
     "output_type": "execute_result"
    }
   ],
   "source": [
    "mapped"
   ]
  },
  {
   "cell_type": "code",
   "execution_count": 140,
   "metadata": {
    "id": "KOegPhIOx2zu",
    "outputId": "e50bf1ff-44c8-40b0-cdac-5edaeeea833a"
   },
   "outputs": [
    {
     "name": "stdout",
     "output_type": "stream",
     "text": [
      "{'Manjeet': 40, 'Nikhil': 50, 'Shambhavi': 60}\n"
     ]
    }
   ],
   "source": [
    "print(dict(mapped))"
   ]
  },
  {
   "cell_type": "code",
   "execution_count": 141,
   "metadata": {
    "id": "vVYMZn_Cx2zv"
   },
   "outputs": [],
   "source": [
    "name = [\"Manjeet\", \"Nikhil\", \"Shambhavi\"]\n",
    "marks = [40, 50, 60,80]"
   ]
  },
  {
   "cell_type": "code",
   "execution_count": 142,
   "metadata": {
    "id": "cJpurERkx2zw"
   },
   "outputs": [],
   "source": [
    "mapped = zip(name, marks)"
   ]
  },
  {
   "cell_type": "code",
   "execution_count": null,
   "metadata": {
    "id": "huwhblKwx2zz",
    "outputId": "d1d39441-6ae1-490c-c6a9-46cb9f556524"
   },
   "outputs": [
    {
     "name": "stdout",
     "output_type": "stream",
     "text": [
      "{'Manjeet': 40, 'Nikhil': 50, 'Shambhavi': 60}\n"
     ]
    }
   ],
   "source": [
    "print(dict(mapped))"
   ]
  }
 ],
 "metadata": {
  "colab": {
   "collapsed_sections": [
    "v_Dz0Rf8x2wZ",
    "6NaL3DU1x2w1",
    "INOUJ-IJx2w1",
    "6MHUetrLx2w6",
    "o_B-5yhsx2w-",
    "FY0pToLax2xO",
    "yMYuf2Hvx2xV",
    "YMD--2K9x2xe",
    "McnlvCvFx2x4",
    "Y579P1fwx2yN",
    "Ehae_5psx2yT",
    "J78K33lKx2yh",
    "-imPGLIHx2ym",
    "nJm-OfZDx2yq",
    "syQXm4jBx2yx",
    "J44Z9VfMx2y9",
    "uL7e7NDox2y9",
    "tUaGyAtdx2y_",
    "_nSqsOiax2zB",
    "WsRmOWzVx2zG",
    "KdEUV4J3x2zT",
    "Rnlnm59rx2zi",
    "IC5NCQkmx2zl",
    "M2AfPxHSx2zp"
   ],
   "provenance": []
  },
  "kernelspec": {
   "display_name": "Python 3 (ipykernel)",
   "language": "python",
   "name": "python3"
  },
  "language_info": {
   "codemirror_mode": {
    "name": "ipython",
    "version": 3
   },
   "file_extension": ".py",
   "mimetype": "text/x-python",
   "name": "python",
   "nbconvert_exporter": "python",
   "pygments_lexer": "ipython3",
   "version": "3.9.13"
  }
 },
 "nbformat": 4,
 "nbformat_minor": 1
}
